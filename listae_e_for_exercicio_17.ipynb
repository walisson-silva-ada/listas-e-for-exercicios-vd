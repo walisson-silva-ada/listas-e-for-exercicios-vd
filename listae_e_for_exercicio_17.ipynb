{
 "cells": [
  {
   "cell_type": "code",
   "execution_count": null,
   "id": "c56f905d",
   "metadata": {},
   "outputs": [],
   "source": [
    "#exercicio 17\n",
    "cpf = input(\"digite seu cpf sem hifem ou pontos: \")\n",
    "while len(cpf) != 11:\n",
    "    print(\"cpf invalido\")\n",
    "    cpf = input(\"digite seu cpf: \")\n",
    "\n",
    "l = list(cpf)\n",
    "aux1 = 0\n",
    "aux2 = 10\n",
    "s1 = 0\n",
    "while aux1 < 9:\n",
    "    s1 = s1 + (int(l[aux1])*aux2)\n",
    "    #print(aux2, \" * \", l[aux1])\n",
    "    aux1 += 1\n",
    "    aux2 -= 1\n",
    "\n",
    "s2 = (s1*10)%11\n",
    "\n",
    "aux1 = 0\n",
    "aux2 = 11\n",
    "s3 = 0\n",
    "if s2 == 10:\n",
    "    s2 = 0\n",
    "if s2 == int(l[9]):\n",
    "    while aux1 < 10:\n",
    "        s3 = s3 + (int(l[aux1])*aux2)\n",
    "        #print(aux2, \" * \", l[aux1])\n",
    "        #print(s3)\n",
    "        aux1 += 1\n",
    "        aux2 -= 1\n",
    "else:\n",
    "    print(\"cpf invalido\")\n",
    "x = (s3*10)%11\n",
    "if x == 10:\n",
    "    x = 0\n",
    "if x == int(l[10]):\n",
    "    print(\"cpf valido\")\n",
    "else:\n",
    "    print(\"cpf invalido\")"
   ]
  }
 ],
 "metadata": {
  "kernelspec": {
   "display_name": "Python 3",
   "language": "python",
   "name": "python3"
  },
  "language_info": {
   "codemirror_mode": {
    "name": "ipython",
    "version": 3
   },
   "file_extension": ".py",
   "mimetype": "text/x-python",
   "name": "python",
   "nbconvert_exporter": "python",
   "pygments_lexer": "ipython3",
   "version": "3.8.8"
  },
  "toc": {
   "base_numbering": 1,
   "nav_menu": {},
   "number_sections": true,
   "sideBar": true,
   "skip_h1_title": false,
   "title_cell": "Table of Contents",
   "title_sidebar": "Contents",
   "toc_cell": false,
   "toc_position": {},
   "toc_section_display": true,
   "toc_window_display": false
  }
 },
 "nbformat": 4,
 "nbformat_minor": 5
}
