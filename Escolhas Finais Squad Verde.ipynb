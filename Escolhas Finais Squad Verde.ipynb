{
 "cells": [
  {
   "cell_type": "markdown",
   "id": "cf2f7944",
   "metadata": {},
   "source": [
    "# LC | Listas e For "
   ]
  },
  {
   "cell_type": "markdown",
   "id": "4d745024",
   "metadata": {},
   "source": [
    "## Ex. 15 - Desafio 1\n",
    "\n",
    "Desafio 1 - Faça um programa que peça para o usuário digitar o nome e a idade de um aluno e o número de provas que esse aluno fez. Depois, o programa deve pedir para o usuário digitar as notas de cada prova do aluno. Ao final o programa deve imprimir uma lista contendo:\n",
    "\n",
    "a. Nome do aluno na posição 0;\n",
    "\n",
    "b. Idade do aluno na posição 1;\n",
    "\n",
    "c. Uma lista com todas as notas na posição 2;\n",
    "\n",
    "d. A média do aluno na posição 3;\n",
    "\n",
    "e. True ou False, caso a média seja maior que 5 ou não, na posição 4.\n",
    "\n",
    "Dica: Use o que você fez nos exercícios anteriores para criar esse programa."
   ]
  },
  {
   "cell_type": "code",
   "execution_count": 1,
   "id": "5abc6f57",
   "metadata": {
    "ExecuteTime": {
     "end_time": "2021-07-29T13:45:26.345726Z",
     "start_time": "2021-07-29T13:44:54.403439Z"
    }
   },
   "outputs": [
    {
     "name": "stdout",
     "output_type": "stream",
     "text": [
      "digite o nome da aluna: Fulana\n",
      "digite a idade da aluna: 30\n",
      "quantas provas a aluna fez: 4\n",
      "digite a nota da aluna: 5\n",
      "digite a nota da aluna: 10\n",
      "digite a nota da aluna: 2\n",
      "digite a nota da aluna: 9\n",
      "['Fulana', 30.0, [5.0, 10.0, 2.0, 9.0], 6.5, True]\n"
     ]
    }
   ],
   "source": [
    "#Escolha: Guilherme (após correção do x = False)\n",
    "\n",
    "nome = input(\"digite o nome da aluna: \")\n",
    "idade = float(input(\"digite a idade da aluna: \"))\n",
    "qtde = float(input(\"quantas provas a aluna fez: \"))\n",
    "aux = 0\n",
    "notas = []\n",
    "while aux < qtde:\n",
    "    notas.append(float(input(\"digite a nota da aluna: \")))\n",
    "    aux += 1\n",
    "x = False\n",
    "media = sum(notas)/qtde\n",
    "if media > 5:\n",
    "    x = True\n",
    "l = [nome, idade, notas, media, x]\n",
    "\n",
    "print(l)\n"
   ]
  },
  {
   "cell_type": "markdown",
   "id": "55e253f7",
   "metadata": {},
   "source": [
    "## Ex. 16 - Desafio 2\n",
    "\n",
    "Desafio 2 - Faça um programa como o do item anterior, porém que imprima a média sem considerar a maior e menor nota do aluno (nesse caso o número de provas precisa ser obrigatoriamente maior que dois).\n",
    "\n",
    "Dica: crie uma cópia com a lista de todas as notas antes de fazer a média."
   ]
  },
  {
   "cell_type": "code",
   "execution_count": 3,
   "id": "6ef9f4c7",
   "metadata": {
    "ExecuteTime": {
     "end_time": "2021-07-29T13:54:56.858944Z",
     "start_time": "2021-07-29T13:54:33.277800Z"
    }
   },
   "outputs": [
    {
     "name": "stdout",
     "output_type": "stream",
     "text": [
      "Nome do aluno: Fulano\n",
      "Idade do aluno: 30\n",
      "Insira o número de provas (maior que 2): 1\n",
      "Insira o número de provas (maior que 2): 3\n",
      "Digite uma nota de prova: 5\n",
      "Digite uma nota de prova: 8\n",
      "Digite uma nota de prova: 10\n",
      "['Fulano', 30, [5.0, 8.0, 10.0], 8.0, True]\n"
     ]
    }
   ],
   "source": [
    "#Escolha: Isabela, após inclusao da validação \"se aluno tem mais de 2 notas\"\n",
    "\n",
    "nome = input(\"Nome do aluno: \")\n",
    "idade = int(input(\"Idade do aluno: \"))\n",
    "no_provas = 0\n",
    "while (no_provas <= 2):\n",
    "    no_provas = int(input('Insira o número de provas (maior que 2): '))\n",
    "notas = []\n",
    "for i in range(no_provas):\n",
    "    nota = float(input(\"Digite uma nota de prova: \"))\n",
    "    notas.append(nota)\n",
    "notas_removidas = notas[:]\n",
    "notas_removidas.remove(max(notas_removidas))\n",
    "notas_removidas.remove(min(notas_removidas))\n",
    "media = sum(notas_removidas)/len(notas_removidas)\n",
    "dentro_media = (media >= 5)\n",
    "lista = [nome, idade, notas, media, dentro_media]\n",
    "print(lista)"
   ]
  },
  {
   "cell_type": "markdown",
   "id": "10c566c7",
   "metadata": {},
   "source": [
    "## Ex. 17 - Desafio 3\n",
    "Desafio 3 - Faça um programa que pede para o usuário digitar o CPF e verifica se ele é válido. Para isso, primeiramente o programa deve multiplicar cada um dos 9 primeiros dígitos do CPF pelos números de 10 a 2 e somar todas as respostas. O resultado deve ser multiplicado por 10 e dividido por 11. O resto dessa divisão deve ser igual ao primeiro dígito verificador (10º dígito). Em seguida, o programa deve multiplicar cada um dos 10 primeiros dígitos do CPF pelos números de 11 a 2 e repetir o procedimento anterior para verificar o segundo dígito verificador.\n",
    "\n",
    "Exemplo:\n",
    "\n",
    "Se o CPF for 286.255.878-87 o programa deve fazer primeiro:\n",
    "\n",
    "x = (2*10 + 8*9 + 6*8 + 2*7 + 5*6 + 5*5 + 8*4 + 7*3 + 8*2)\n",
    "\n",
    "Em seguida, o programa deve testar se x*10%11 == 8 (o décimo número do CPF). Se sim, o programa deve calcular:\n",
    "\n",
    "x = (2*11 + 8*10 + 6*9 + 2*8 + 5*7 + 5*6 + 8*5 + 7*4 + 8*3 + 8*2)\n",
    "\n",
    "e verificar se x*10%11 == 7 (o décimo primeiro número do CPF)."
   ]
  },
  {
   "cell_type": "code",
   "execution_count": 4,
   "id": "545c83c2",
   "metadata": {
    "ExecuteTime": {
     "end_time": "2021-07-29T13:56:34.766738Z",
     "start_time": "2021-07-29T13:56:30.286884Z"
    }
   },
   "outputs": [
    {
     "name": "stdout",
     "output_type": "stream",
     "text": [
      "Digite seu CPF, (somente números): 43447633867\n",
      "7\n",
      "CPF válido\n"
     ]
    }
   ],
   "source": [
    "#Escolha: Felipe, após alteração pra considerar resto da divisao por 11 sendo 10\n",
    "\n",
    "cpf = input('Digite seu CPF, (somente números): ')\n",
    "\n",
    "CPF = list(cpf)\n",
    "CPFint = []\n",
    "\n",
    "for i in cpf:\n",
    "    CPFint.append(int(i))\n",
    "CPF = CPFint\n",
    "\n",
    "x = CPF[0]*10 + CPF[1]*9 + CPF[2]*8 + CPF[3]*7 + CPF[4]*6 + CPF[5]*5 + CPF[6]*4 + CPF[7]*3 + CPF[8]*2\n",
    "\n",
    "teste = x*10%11\n",
    "\n",
    "if teste == CPF[9]:\n",
    "    x = CPF[0]*11 + CPF[1]*10 + CPF[2]*9 + CPF[3]*8 + CPF[4]*7 + CPF[5]*6 + CPF[6]*5 + CPF[7]*4 + CPF[8]*3 + CPF[9]*2\n",
    "    teste2 = x*10%11\n",
    "    print(teste2)\n",
    "    if teste2 == 10: teste2 = 0\n",
    "    if teste2 == CPF[10]:\n",
    "        print('CPF válido')\n",
    "    else:\n",
    "        print('CPF inválido')\n",
    "else:\n",
    "    print('CPF inválido')"
   ]
  },
  {
   "cell_type": "markdown",
   "id": "efb3d8ac",
   "metadata": {},
   "source": [
    "# LC | Funções"
   ]
  },
  {
   "cell_type": "markdown",
   "id": "862a8a54",
   "metadata": {},
   "source": [
    "## Ex. 20 - Super Desafio BlackJack\n",
    "\n",
    "Super Desafio! - Faça um jogo de BlackJack usando funções: o BlackJack, ou Vinte e Um, é um jogo em que os jogadores podem comprar cartas livremente, enquanto tiverem menos de 21 pontos. No nosso jogo, o Ás vale um ponto; as cartas de 2 a 10 valem o número de pontos que elas representam; e Valete, Dama e Rei valem 10 pontos cada. Ganha o jogador que tiver o maior número de pontos, desde que este seja menor ou igual a 21. Nosso jogo deve ter as seguintes funções:\n",
    "\n",
    "a. Função principal: a função que vamos chamar para iniciar o jogo. Essa função não irá receber nem retornar nenhuma variável. Ela deve perguntar o número de jogadores participantes e o nome de cada um. Em seguida ela chama as outras funções do jogo.\n",
    "\n",
    "b. Função para criar o baralho: essa função deve criar um baralho (uma lista) com as cartas do baralho.\n",
    "\n",
    "c. Função para a jogada: essa função deve receber o nome do jogador que irá realizar a jogada e, caso ele ainda esteja ativo (tenha menos de 21 pontos e ainda não tenha desistido de comprar cartas) deve perguntar se ele quer comprar uma carta. Se ele responder que sim, a função deve chamar a próxima função para sortear uma carta e somar o valor retornado na pontuação do jogador; se ele responder que não, a função deve desativar o jogador para que ele não possa mais comprar cartas; Essa função só deve ser chamada enquanto houver jogadores ativos.\n",
    "\n",
    "d. Função para o sorteio: essa função retira uma carta aleatória do baralho e retorna o número de pontos que essa carta vale.\n",
    "\n",
    "e. Função verificação: verifica e indica qual/quais jogador/jogadores tem o maior número de pontos, que seja menor ou igual a 21."
   ]
  },
  {
   "cell_type": "code",
   "execution_count": 5,
   "id": "f1decc24",
   "metadata": {
    "ExecuteTime": {
     "end_time": "2021-07-29T14:04:58.991185Z",
     "start_time": "2021-07-29T14:04:03.818686Z"
    }
   },
   "outputs": [
    {
     "name": "stdout",
     "output_type": "stream",
     "text": [
      "###### INICIO DE JOGO ######\n",
      "\n",
      "Quantos jogadores irão participar: 2\n",
      "Digite o nome do jogador:Jogador 1\n",
      "Digite o nome do jogador:Jogador 2\n",
      "###### Placar ######\n",
      "Jogador 1 -> 0\n",
      "Jogador 2 -> 0\n",
      "\n",
      "##### Vez de: JOGADOR 1 #####\n",
      "deseja puxar uma carta? (s/n)s\n",
      "[['A', 2, 3, 4, 5, 6, 7, 8, 9, 10, 'Q', 'J', 'K'], ['A', 2, 3, 4, 5, 6, 7, 8, 9, 10, 0, 'J', 'K'], ['A', 2, 3, 4, 5, 6, 7, 8, 9, 10, 'Q', 'J', 'K'], ['A', 2, 3, 4, 5, 6, 7, 8, 9, 10, 'Q', 'J', 'K']]\n",
      "carta puxada: Q \n",
      "foram somados  10 ponto(s). \n",
      "Total jogador: 10\n",
      "\n",
      "##### Vez de: JOGADOR 1 #####\n",
      "deseja puxar uma carta? (s/n)s\n",
      "[['A', 2, 3, 4, 5, 6, 7, 8, 9, 10, 'Q', 'J', 'K'], ['A', 2, 3, 4, 5, 0, 7, 8, 9, 10, 0, 'J', 'K'], ['A', 2, 3, 4, 5, 6, 7, 8, 9, 10, 'Q', 'J', 'K'], ['A', 2, 3, 4, 5, 6, 7, 8, 9, 10, 'Q', 'J', 'K']]\n",
      "carta puxada: 6 \n",
      "foram somados  6 ponto(s). \n",
      "Total jogador: 16\n",
      "\n",
      "##### Vez de: JOGADOR 1 #####\n",
      "deseja puxar uma carta? (s/n)n\n",
      "##### PAROU! #####\n",
      "\n",
      "##### Vez de: JOGADOR 2 #####\n",
      "deseja puxar uma carta? (s/n)s\n",
      "[['A', 2, 3, 4, 0, 6, 7, 8, 9, 10, 'Q', 'J', 'K'], ['A', 2, 3, 4, 5, 0, 7, 8, 9, 10, 0, 'J', 'K'], ['A', 2, 3, 4, 5, 6, 7, 8, 9, 10, 'Q', 'J', 'K'], ['A', 2, 3, 4, 5, 6, 7, 8, 9, 10, 'Q', 'J', 'K']]\n",
      "carta puxada: 5 \n",
      "foram somados  5 ponto(s). \n",
      "Total jogador: 5\n",
      "\n",
      "##### Vez de: JOGADOR 2 #####\n",
      "deseja puxar uma carta? (s/n)s\n",
      "[['A', 2, 3, 4, 0, 6, 7, 8, 9, 0, 'Q', 'J', 'K'], ['A', 2, 3, 4, 5, 0, 7, 8, 9, 10, 0, 'J', 'K'], ['A', 2, 3, 4, 5, 6, 7, 8, 9, 10, 'Q', 'J', 'K'], ['A', 2, 3, 4, 5, 6, 7, 8, 9, 10, 'Q', 'J', 'K']]\n",
      "carta puxada: 10 \n",
      "foram somados  10 ponto(s). \n",
      "Total jogador: 15\n",
      "\n",
      "##### Vez de: JOGADOR 2 #####\n",
      "deseja puxar uma carta? (s/n)s\n",
      "[['A', 2, 3, 4, 0, 6, 7, 8, 9, 0, 'Q', 'J', 'K'], ['A', 2, 3, 4, 5, 0, 7, 8, 9, 10, 0, 'J', 'K'], ['A', 2, 3, 4, 5, 6, 7, 8, 9, 10, 'Q', 'J', 'K'], ['A', 2, 3, 4, 5, 6, 0, 8, 9, 10, 'Q', 'J', 'K']]\n",
      "carta puxada: 7 \n",
      "foram somados  7 ponto(s). \n",
      "Total jogador: 22\n",
      "##### ESTOUROU!!!! #####\n",
      "##### FIM DE JOGO #####\n",
      "###### Placar ######\n",
      "Vencedor: Jogador 1 -> 16 pontos!!!\n",
      "Jogador 2 -> 22\n"
     ]
    }
   ],
   "source": [
    "#Excolha: Guilherme, por ter 4 naipes e não repetir cartas\n",
    "\n",
    "from random import randint\n",
    "def cria_baralho():\n",
    "    c = ['A',2,3,4,5,6,7,8,9,10,'Q','J', 'K']\n",
    "    p = ['A',2,3,4,5,6,7,8,9,10,'Q','J', 'K']\n",
    "    o = ['A',2,3,4,5,6,7,8,9,10,'Q','J', 'K']\n",
    "    e = ['A',2,3,4,5,6,7,8,9,10,'Q','J', 'K']\n",
    "    return [c, p, o, e]\n",
    "\n",
    "def puxa_carta(l):\n",
    "    nipe = randint(0,3)\n",
    "    carta = randint(0,12)\n",
    "    if l[nipe][carta] != 0:\n",
    "        if carta > 9:\n",
    "            valor = 10\n",
    "        else:\n",
    "            valor = carta + 1\n",
    "        puxada = l[nipe][carta]\n",
    "        l[nipe][carta] = 0\n",
    "        return [valor, puxada]\n",
    "    puxa_carta(l)\n",
    "\n",
    "def ganhador(j):\n",
    "    aux = 0\n",
    "    camp = \"\"\n",
    "    for x in j:\n",
    "        if x[1] > aux and x[1] <= 21:\n",
    "            aux = x[1]\n",
    "            camp = x[0]\n",
    "    return camp\n",
    "    \n",
    "def placar(l):\n",
    "    print(\"###### Placar ######\")\n",
    "    g = ganhador(l)\n",
    "    for x in l:\n",
    "        if x[0] == g:\n",
    "            print(\"Vencedor:\",x[0], \"->\", x[1], \"pontos!!!\")\n",
    "        else:\n",
    "            print(x[0], \"->\", x[1])\n",
    "            \n",
    "def alguem_jogando(jog):\n",
    "    for x in jog:\n",
    "        if x[2] == 1 and x[1] < 21:\n",
    "            return True\n",
    "    return False\n",
    "    \n",
    "            \n",
    "def jogar(jog, deck):\n",
    "    if alguem_jogando(jog) == True:\n",
    "        for x in jog:\n",
    "            if x[2] == 1 and x[1] < 21 :\n",
    "                print(\"\\n##### Vez de:\", x[0].upper(), \"#####\")\n",
    "                r = input(\"deseja puxar uma carta? (s/n)\")\n",
    "                if r.upper() == \"S\":\n",
    "                    carta = puxa_carta(deck)\n",
    "                    x[1] += int(carta[0])\n",
    "                    print(deck)\n",
    "                    print(\"carta puxada:\", carta[1], \"\\nforam somados \", carta[0], \"ponto(s). \\nTotal jogador:\", x[1])\n",
    "                    if x[1] > 21:\n",
    "                        print(\"##### ESTOUROU!!!! #####\")\n",
    "                    jogar(jog, deck)\n",
    "                else:\n",
    "                    print(\"##### PAROU! #####\")\n",
    "                    x[2] = 0\n",
    "                    jogar(jog, deck)\n",
    "    else:\n",
    "        print(\"##### FIM DE JOGO #####\")\n",
    "        return placar(jog)\n",
    "      \n",
    "def ini():\n",
    "    x = 1\n",
    "    print(\"###### INICIO DE JOGO ######\\n\")\n",
    "    qtde = int(input('Quantos jogadores irão participar: '))\n",
    "    jog = []\n",
    "    for x in range(qtde):\n",
    "        nome = input('Digite o nome do jogador:')\n",
    "        jog.append([nome, 0, 1])\n",
    "    deck = cria_baralho()\n",
    "    placar(jog)\n",
    "    \n",
    "    jogar(jog, deck)\n",
    "    \n",
    "ini()"
   ]
  },
  {
   "cell_type": "markdown",
   "id": "c860d18d",
   "metadata": {},
   "source": [
    "## Ex 21 - Super Desafio Sistema de Cadastros\n",
    "\n",
    "Super desafio! Faça um sistema de cadastro de clientes. Modele cada cliente como uma lista de três elementos: nome, CPF e e-mail.\n",
    "\n",
    "a. Faça uma função que peça o nome, o CPF e o e-mail da pessoa e retorne uma lista contendo esses elementos nessa ordem.\n",
    "\n",
    "b. Os clientes cadastrados devem ser armazenados em uma lista (uma lista de listas, já que cada cliente será uma lista tal como produzido no item a).\n",
    "\n",
    "c. Faça uma função que recebe a lista do item b) e um CPF e, se esse cliente estiver na lista de cadastro, sua função deve devolver a lista de dados desse cliente; caso contrário, sua função deve imprimir “não encontrado”.\n",
    "\n",
    "d. Enquanto não for digitado 0, o seu programa deve continuar rodando. Se digitado 1, seu programa deve cadastrar um novo cliente; se digitado 2, seu programa deve pedir um CPF e procurá-lo na lista de clientes (item c); se digitado 3, seu programa deve imprimir todos os clientes cadastrados."
   ]
  },
  {
   "cell_type": "code",
   "execution_count": 6,
   "id": "85c77c34",
   "metadata": {
    "ExecuteTime": {
     "end_time": "2021-07-29T14:10:48.268771Z",
     "start_time": "2021-07-29T14:09:46.546446Z"
    }
   },
   "outputs": [
    {
     "name": "stdout",
     "output_type": "stream",
     "text": [
      "Digite\n",
      " 1 para cadastrar um novo usuário\n",
      " 2 para realizar uma busca por CPF\n",
      " 3 para imprimir os usuários cadastrados\n",
      " 0 para finalizar o programa: \n",
      "1\n",
      "Nome: Fulano\n",
      "CPF: 43447633867\n",
      "E-mail: fe@teste.com\n",
      "Digite\n",
      " 1 para cadastrar um novo usuário\n",
      " 2 para realizar uma busca por CPF\n",
      " 3 para imprimir os usuários cadastrados\n",
      " 0 para finalizar o programa: \n",
      "1\n",
      "Nome: Fulana\n",
      "CPF: 13127806817\n",
      "E-mail: fu@teste.com\n",
      "Digite\n",
      " 1 para cadastrar um novo usuário\n",
      " 2 para realizar uma busca por CPF\n",
      " 3 para imprimir os usuários cadastrados\n",
      " 0 para finalizar o programa: \n",
      "2\n",
      "Informe o CPF procurado: 43447633867\n",
      "Nome: Fulano; CPF: 43447633867; E-mail: fe@teste.com\n",
      "Digite\n",
      " 1 para cadastrar um novo usuário\n",
      " 2 para realizar uma busca por CPF\n",
      " 3 para imprimir os usuários cadastrados\n",
      " 0 para finalizar o programa: \n",
      "3\n",
      "Nome: Fulano; CPF: 43447633867; E-mail: fe@teste.com\n",
      "Nome: Fulana; CPF: 13127806817; E-mail: fu@teste.com\n",
      "Digite\n",
      " 1 para cadastrar um novo usuário\n",
      " 2 para realizar uma busca por CPF\n",
      " 3 para imprimir os usuários cadastrados\n",
      " 0 para finalizar o programa: \n",
      "0\n",
      "Fim\n"
     ]
    }
   ],
   "source": [
    "#Escolha: Felipe, após inclusão de quebra de linhas para facilitar leitura do usuário nas opções\n",
    "\n",
    "def cadastro():\n",
    "    sublista = []\n",
    "    nome = input('Nome: ')\n",
    "    sublista.append(nome)\n",
    "    CPF = input('CPF: ')\n",
    "    sublista.append(CPF)\n",
    "    email = input('E-mail: ')\n",
    "    sublista.append(email)\n",
    "    return sublista\n",
    "\n",
    "def busca(cadastros, buscaCPF):\n",
    "    NaoEncontrou = True\n",
    "    for i in range(len(cadastros)):\n",
    "        if cadastros[i][1] == buscaCPF:\n",
    "            NaoEncontrou = False\n",
    "            return cadastros[i]\n",
    "    if NaoEncontrou:\n",
    "        print('CPF não encontrado')\n",
    "        return ''\n",
    "\n",
    "def opcao():\n",
    "    resposta = ''\n",
    "    try:\n",
    "        while resposta not in (0, 1, 2, 3):\n",
    "            resposta = int(input('Digite\\n 1 para cadastrar um novo usuário\\n 2 para realizar uma busca por CPF\\n 3 para imprimir os usuários cadastrados\\n 0 para finalizar o programa: \\n'))\n",
    "    except:\n",
    "        opcao()\n",
    "    return resposta\n",
    "\n",
    "resposta = opcao()\n",
    "cadastros = []\n",
    "while resposta != 0:\n",
    "    if resposta == 1:\n",
    "        cadastros.append(cadastro())\n",
    "        resposta = opcao()\n",
    "    elif resposta == 3:\n",
    "        for i in range(len(cadastros)):\n",
    "            print(f'Nome: {cadastros[i][0]}; CPF: {cadastros[i][1]}; E-mail: {cadastros[i][2]}')\n",
    "        resposta = opcao()\n",
    "    elif resposta == 2:\n",
    "        buscaCPF = input('Informe o CPF procurado: ')\n",
    "        procura = busca(cadastros, buscaCPF)\n",
    "        if procura != '':\n",
    "            print(f'Nome: {procura[0]}; CPF: {procura[1]}; E-mail: {procura[2]}')\n",
    "        resposta = opcao()\n",
    "    else:\n",
    "        resposta = 0\n",
    "print('Fim')\n"
   ]
  },
  {
   "cell_type": "code",
   "execution_count": null,
   "id": "a3b225b6",
   "metadata": {},
   "outputs": [],
   "source": []
  }
 ],
 "metadata": {
  "kernelspec": {
   "display_name": "Python 3",
   "language": "python",
   "name": "python3"
  },
  "language_info": {
   "codemirror_mode": {
    "name": "ipython",
    "version": 3
   },
   "file_extension": ".py",
   "mimetype": "text/x-python",
   "name": "python",
   "nbconvert_exporter": "python",
   "pygments_lexer": "ipython3",
   "version": "3.8.8"
  },
  "toc": {
   "base_numbering": 1,
   "nav_menu": {},
   "number_sections": true,
   "sideBar": true,
   "skip_h1_title": true,
   "title_cell": "Table of Contents",
   "title_sidebar": "Contents",
   "toc_cell": false,
   "toc_position": {},
   "toc_section_display": true,
   "toc_window_display": true
  }
 },
 "nbformat": 4,
 "nbformat_minor": 5
}
