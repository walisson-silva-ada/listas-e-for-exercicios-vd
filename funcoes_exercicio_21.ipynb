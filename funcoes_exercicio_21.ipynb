{
 "cells": [
  {
   "cell_type": "code",
   "execution_count": null,
   "id": "2ef760ee",
   "metadata": {},
   "outputs": [],
   "source": [
    "#exercicio 21\n",
    "\n",
    "def cadastra(dicionario):\n",
    "    cpf = input(\"Digite o CPF do usuario \") \n",
    "    nome = input(\"Digite o nome do usuario \") \n",
    "    email = input(\"Digite o email do usuario \") \n",
    "    dicionario.update({cpf : {'nome':nome,'cpf':cpf,'email':email}})\n",
    "    return dicionario\n",
    "\n",
    "def busca(dicionario, cpf):\n",
    "    if dicionario.get(cpf, False) == False: \n",
    "        print(\"CPF não encontrado\") \n",
    "        pergunta(dicionario) \n",
    "    else: \n",
    "        print(dicionario[cpf]) \n",
    "        pergunta(dicionario) \n",
    "def pergunta(dicionario): \n",
    "    print(\"Selecione uma das opções: \") \n",
    "    print(\"1 - Cadastrar clientes\") \n",
    "    print(\"2 - Buscar um CPF\") \n",
    "    print(\"3 - Ver users cadastrados\") \n",
    "    print(\"0 - Sair\") \n",
    "    x = input() \n",
    "    if x == '1': \n",
    "        dicionario = cadastra(dicionario)\n",
    "        x = pergunta(dicionario)\n",
    "    elif x == '3': \n",
    "        print(dicionario) \n",
    "        x = pergunta(dicionario) \n",
    "    elif x == '0': \n",
    "        print(\"------Fim-------\") \n",
    "    elif x == '2': \n",
    "        cpf = input(\"digite o cpf que deseja buscar: \")\n",
    "        busca(dicionario, cpf)\n",
    "    else: \n",
    "        print(\"OPÇÃO INVÁLIDA\") \n",
    "        pergunta(dicionario)\n",
    "        \n",
    "\n",
    "geral = {} \n",
    "pergunta(geral)"
   ]
  }
 ],
 "metadata": {
  "kernelspec": {
   "display_name": "Python 3",
   "language": "python",
   "name": "python3"
  },
  "language_info": {
   "codemirror_mode": {
    "name": "ipython",
    "version": 3
   },
   "file_extension": ".py",
   "mimetype": "text/x-python",
   "name": "python",
   "nbconvert_exporter": "python",
   "pygments_lexer": "ipython3",
   "version": "3.8.8"
  },
  "toc": {
   "base_numbering": 1,
   "nav_menu": {},
   "number_sections": true,
   "sideBar": true,
   "skip_h1_title": false,
   "title_cell": "Table of Contents",
   "title_sidebar": "Contents",
   "toc_cell": false,
   "toc_position": {},
   "toc_section_display": true,
   "toc_window_display": false
  }
 },
 "nbformat": 4,
 "nbformat_minor": 5
}
