{
 "cells": [
  {
   "cell_type": "code",
   "execution_count": 4,
   "metadata": {
    "ExecuteTime": {
     "end_time": "2021-07-17T21:40:10.641130Z",
     "start_time": "2021-07-17T21:40:10.523397Z"
    }
   },
   "outputs": [],
   "source": [
    "# criando uma função geradora de lista aleatória, com letras e números\n",
    "def geraLista(tamanho):\n",
    "    import random as rd\n",
    "\n",
    "    # Criando uma lista aleatória\n",
    "    lista = []\n",
    "#    tamanho = rd.randint(min, max)\n",
    "    i = 0\n",
    "\n",
    "    chars = ['A', 'B', 'C', 'D', 'E', 'F', 'G', 'H', 'I', 'J', 'K', 'L', 'M', 'N', 'O', 'P', 'Q', 'R', 'S', 'T', 'U', 'V', 'W', 'X', 'Y', 'Z', 'a', 'b', 'c', 'd', 'e', 'f', 'g', 'h', 'i', 'j', 'k', 'l', 'm', 'n', 'o', 'p', 'q', 'r', 's', 't', 'u', 'v', 'w', 'x', 'y', 'z', '!', '@', '#', '$', '%', '¨¨','&', '*', '(', ')' ]\n",
    "\n",
    "    choice =  rd.randint(0, 1)\n",
    "\n",
    "    while i < tamanho:\n",
    "        if choice == 0:\n",
    "            lista.append(rd.choice(chars))\n",
    "        else:\n",
    "            lista.append(str(rd.randint(0, 9)))\n",
    "        i = i + 1\n",
    "        choice =  rd.randint(0, 1)\n",
    "    return lista"
   ]
  },
  {
   "cell_type": "code",
   "execution_count": 5,
   "metadata": {
    "ExecuteTime": {
     "end_time": "2021-07-17T21:40:10.968455Z",
     "start_time": "2021-07-17T21:40:10.670808Z"
    }
   },
   "outputs": [
    {
     "data": {
      "text/plain": [
       "['4', '2', '6', '9', '5', '0', '2', '6', '2', '6']"
      ]
     },
     "execution_count": 5,
     "metadata": {},
     "output_type": "execute_result"
    }
   ],
   "source": [
    "# criando uma função geradora de lista aleatória, com números int\n",
    "def geraListaInt(tamanho):\n",
    "    import random as rd\n",
    "\n",
    "    # Criando uma lista aleatória\n",
    "    lista = []\n",
    "#    tamanho = rd.randint(min, max)\n",
    "    i = 0\n",
    "    while i < tamanho:\n",
    "        lista.append(str(rd.randint(0, 9)))\n",
    "        i = i + 1\n",
    "    return lista\n",
    "\n",
    "geraListaInt(10)"
   ]
  },
  {
   "cell_type": "markdown",
   "metadata": {},
   "source": [
    "Faça uma função que recebe um número e imprime seu dobro.\n",
    "\n"
   ]
  },
  {
   "cell_type": "code",
   "execution_count": 3,
   "metadata": {
    "ExecuteTime": {
     "end_time": "2021-07-16T14:24:24.601284Z",
     "start_time": "2021-07-16T14:24:23.257513Z"
    }
   },
   "outputs": [
    {
     "name": "stdout",
     "output_type": "stream",
     "text": [
      "8\n"
     ]
    },
    {
     "data": {
      "text/plain": [
       "16.0"
      ]
     },
     "execution_count": 3,
     "metadata": {},
     "output_type": "execute_result"
    }
   ],
   "source": [
    "def dobro (num):\n",
    "    resultado = num*2\n",
    "    return resultado\n",
    "\n",
    "x = float(input())\n",
    "\n",
    "dobro (x)"
   ]
  },
  {
   "cell_type": "markdown",
   "metadata": {},
   "source": [
    "Faça uma função que recebe o valor do raio de um círculo e retorna o valor do comprimento de sua circunferência: C = 2*pi*r."
   ]
  },
  {
   "cell_type": "code",
   "execution_count": 7,
   "metadata": {
    "ExecuteTime": {
     "end_time": "2021-07-16T14:27:10.578348Z",
     "start_time": "2021-07-16T14:27:09.641311Z"
    }
   },
   "outputs": [
    {
     "name": "stdout",
     "output_type": "stream",
     "text": [
      "5\n"
     ]
    },
    {
     "data": {
      "text/plain": [
       "31.41592653589793"
      ]
     },
     "execution_count": 7,
     "metadata": {},
     "output_type": "execute_result"
    }
   ],
   "source": [
    "def comprimento (raio):\n",
    "    import math\n",
    "    resultado = 2 * math.pi * raio\n",
    "    return resultado\n",
    "\n",
    "x = float(input())\n",
    "\n",
    "comprimento (x)"
   ]
  },
  {
   "cell_type": "markdown",
   "metadata": {},
   "source": [
    "Faça uma função para cada operação matemática básica (soma, subtração, multiplicação e divisão). As funções devem receber dois números e retornar o resultado da operação."
   ]
  },
  {
   "cell_type": "code",
   "execution_count": 11,
   "metadata": {
    "ExecuteTime": {
     "end_time": "2021-07-16T14:31:16.088636Z",
     "start_time": "2021-07-16T14:31:14.086176Z"
    }
   },
   "outputs": [
    {
     "name": "stdout",
     "output_type": "stream",
     "text": [
      "4\n",
      "5\n",
      "9.0\n",
      "-1.0\n",
      "20.0\n",
      "0.8\n"
     ]
    }
   ],
   "source": [
    "def soma (num1, num2):\n",
    "    resultado = num1 + num2\n",
    "    return resultado\n",
    "\n",
    "def subtracao (num1, num2):\n",
    "    resultado = num1 - num2\n",
    "    return resultado\n",
    "\n",
    "def multiplicacao (num1, num2):\n",
    "    resultado = num1 * num2\n",
    "    return resultado\n",
    "\n",
    "def divisao (num1, num2):\n",
    "    resultado = num1 / num2\n",
    "    return resultado\n",
    "\n",
    "x = float(input())\n",
    "y = float(input())\n",
    "\n",
    "print(soma (x, y))\n",
    "print(subtracao (x, y))\n",
    "print(multiplicacao (x, y))\n",
    "print(divisao (x, y))"
   ]
  },
  {
   "cell_type": "markdown",
   "metadata": {},
   "source": [
    "Faça uma função que recebe um nome e imprime “olá, [nome]”.\n",
    "\n"
   ]
  },
  {
   "cell_type": "code",
   "execution_count": 12,
   "metadata": {
    "ExecuteTime": {
     "end_time": "2021-07-16T14:34:39.076585Z",
     "start_time": "2021-07-16T14:34:32.602455Z"
    }
   },
   "outputs": [
    {
     "name": "stdout",
     "output_type": "stream",
     "text": [
      "Felipe\n",
      "olá, Felipe\n"
     ]
    }
   ],
   "source": [
    "def cumprimento (nome):\n",
    "    resultado = f'olá, {nome}'\n",
    "    return resultado\n",
    "\n",
    "x = input()\n",
    "\n",
    "print(cumprimento(x))"
   ]
  },
  {
   "cell_type": "markdown",
   "metadata": {},
   "source": [
    "Faça uma função que recebe um nome e um horário e imprime “Bom dia, [nome]”, caso seja antes de 12h, “Boa Tarde, [nome]”, caso seja entre 12h e 18h e “Boa noite, [nome]” se for após às 18h."
   ]
  },
  {
   "cell_type": "code",
   "execution_count": 37,
   "metadata": {
    "ExecuteTime": {
     "end_time": "2021-07-16T15:14:10.519882Z",
     "start_time": "2021-07-16T15:14:05.625122Z"
    }
   },
   "outputs": [
    {
     "name": "stdout",
     "output_type": "stream",
     "text": [
      "Fe\n",
      "15h\n",
      "Boa tarde, Fe\n"
     ]
    }
   ],
   "source": [
    "def cumprimento (nome, hora):\n",
    "    listaHora = list(str(hora))\n",
    "    hora = ''\n",
    "    for item in listaHora:\n",
    "        try:\n",
    "            int(item)\n",
    "            hora = hora + item\n",
    "        except:\n",
    "            hr = 0\n",
    "        hr = int(hora)\n",
    "    if hr < 12:\n",
    "        resultado = f'Bom dia, {nome}'\n",
    "    elif hr >= 12 and hr <= 18:\n",
    "        resultado = f'Boa tarde, {nome}'\n",
    "    else:\n",
    "        resultado = f'Boa noite, {nome}'\n",
    "    return resultado\n",
    "\n",
    "x = input()\n",
    "y = input()\n",
    "\n",
    "print(cumprimento(x, y))"
   ]
  },
  {
   "cell_type": "markdown",
   "metadata": {},
   "source": [
    "Faça uma função que recebe um número e retorna True se ele é par ou False, se ele é ímpar.\n",
    "\n"
   ]
  },
  {
   "cell_type": "code",
   "execution_count": 44,
   "metadata": {
    "ExecuteTime": {
     "end_time": "2021-07-16T15:22:32.187666Z",
     "start_time": "2021-07-16T15:22:30.234430Z"
    }
   },
   "outputs": [
    {
     "name": "stdout",
     "output_type": "stream",
     "text": [
      "3\n"
     ]
    },
    {
     "data": {
      "text/plain": [
       "False"
      ]
     },
     "execution_count": 44,
     "metadata": {},
     "output_type": "execute_result"
    }
   ],
   "source": [
    "def ParOuImpar (num):\n",
    "    teste = num%2\n",
    "    if teste == 0:\n",
    "        return True\n",
    "    else:\n",
    "        return False\n",
    "    \n",
    "x = int(input())\n",
    "\n",
    "ParOuImpar(x)"
   ]
  },
  {
   "cell_type": "markdown",
   "metadata": {
    "ExecuteTime": {
     "end_time": "2021-07-16T15:22:27.611380Z",
     "start_time": "2021-07-16T15:22:27.593428Z"
    }
   },
   "source": [
    "Faça uma função que sorteia 10 números aleatórios entre 0 e 100 e retorna o maior entre eles.\n",
    "\n"
   ]
  },
  {
   "cell_type": "code",
   "execution_count": 2,
   "metadata": {
    "ExecuteTime": {
     "end_time": "2021-07-16T15:38:17.860291Z",
     "start_time": "2021-07-16T15:38:17.851316Z"
    }
   },
   "outputs": [
    {
     "data": {
      "text/plain": [
       "81.14428782876017"
      ]
     },
     "execution_count": 2,
     "metadata": {},
     "output_type": "execute_result"
    }
   ],
   "source": [
    "def sorteio ():\n",
    "    import random as rd\n",
    "    i = 0\n",
    "    lista = []\n",
    "    while i <= 10:\n",
    "        lista.append(rd.uniform(0, 100))\n",
    "        i = i + 1\n",
    "    return max(lista)\n",
    "\n",
    "sorteio()"
   ]
  },
  {
   "cell_type": "markdown",
   "metadata": {},
   "source": [
    "Faça uma função que recebe um número n de entrada, sorteia n números aleatórios entre 0 e 100 e retorna a média deles.\n",
    "\n"
   ]
  },
  {
   "cell_type": "code",
   "execution_count": 3,
   "metadata": {
    "ExecuteTime": {
     "end_time": "2021-07-16T15:38:20.831962Z",
     "start_time": "2021-07-16T15:38:20.811016Z"
    }
   },
   "outputs": [
    {
     "data": {
      "text/plain": [
       "52.18317146620661"
      ]
     },
     "execution_count": 3,
     "metadata": {},
     "output_type": "execute_result"
    }
   ],
   "source": [
    "def sorteio (n):\n",
    "    import random as rd\n",
    "    i = 0\n",
    "    lista = []\n",
    "    while i <= n:\n",
    "        lista.append(rd.uniform(0, 100))\n",
    "        i = i + 1\n",
    "    media = sum(lista) / len(lista)\n",
    "    return media\n",
    "\n",
    "sorteio(10)"
   ]
  },
  {
   "cell_type": "markdown",
   "metadata": {},
   "source": [
    "Faça uma função que recebe uma lista de palavras e retorna uma lista contendo as mesmas palavras da lista anterior, porém escritas em caixa alta.\n",
    "\n"
   ]
  },
  {
   "cell_type": "code",
   "execution_count": 10,
   "metadata": {
    "ExecuteTime": {
     "end_time": "2021-07-16T15:46:59.996990Z",
     "start_time": "2021-07-16T15:46:59.978040Z"
    }
   },
   "outputs": [
    {
     "data": {
      "text/plain": [
       "['OI', 'TUDO', 'BEM?']"
      ]
     },
     "execution_count": 10,
     "metadata": {},
     "output_type": "execute_result"
    }
   ],
   "source": [
    "def maiuscula(lista):\n",
    "    retorno = []\n",
    "    for item in lista:\n",
    "        item = item.upper()\n",
    "        retorno.append(item)\n",
    "    return retorno\n",
    "\n",
    "x = ['oi', 'tudo', 'bem?']\n",
    "\n",
    "maiuscula(x)"
   ]
  },
  {
   "cell_type": "markdown",
   "metadata": {},
   "source": [
    "Faça uma função que recebe duas listas e retorna a soma item a item dessas listas.\n",
    "\n",
    "Exemplo: Se a função receber as listas [1,4,3] e [3,5,1], então a função deve retornar [1+3, 4+5, 3+1] = [4, 9, 4]."
   ]
  },
  {
   "cell_type": "code",
   "execution_count": 13,
   "metadata": {
    "ExecuteTime": {
     "end_time": "2021-07-16T15:56:04.211796Z",
     "start_time": "2021-07-16T15:56:04.193843Z"
    }
   },
   "outputs": [
    {
     "name": "stdout",
     "output_type": "stream",
     "text": [
      "[10, 18, 14, 7]\n",
      "[15, 19, 2, 6]\n",
      "Soma dos elementos das listas: [25, 37, 16, 13]\n"
     ]
    }
   ],
   "source": [
    "import random as rd\n",
    "\n",
    "lista1 = [rd.randint(0,20), rd.randint(0,20), rd.randint(0,20), rd.randint(0,20)]\n",
    "lista2 = [rd.randint(0,20), rd.randint(0,20), rd.randint(0,20), rd.randint(0,20)]\n",
    "\n",
    "def somaListas(lista1, lista2):\n",
    "    somaLista = []\n",
    "    i = 0\n",
    "    while i < len(lista1):\n",
    "        x = lista1[i] + lista2[i]\n",
    "        somaLista.append(x)\n",
    "        i = i + 1\n",
    "    return somaLista\n",
    "        \n",
    "print(lista1)\n",
    "print(lista2)\n",
    "print('Soma dos elementos das listas:', somaListas(lista1, lista2))"
   ]
  },
  {
   "cell_type": "markdown",
   "metadata": {},
   "source": [
    "Faça uma função que receba duas listas e retorne o produto item a item dessas listas.\n",
    "\n",
    "Exemplo: Se a função receber as listas [1,4,3] e [3,5,1], então a função deve retornar [1x3, 4x5, 3x1] = [3, 20, 3]."
   ]
  },
  {
   "cell_type": "code",
   "execution_count": 14,
   "metadata": {
    "ExecuteTime": {
     "end_time": "2021-07-16T15:57:16.157162Z",
     "start_time": "2021-07-16T15:57:16.141205Z"
    }
   },
   "outputs": [
    {
     "name": "stdout",
     "output_type": "stream",
     "text": [
      "[12, 20, 11, 9]\n",
      "[2, 7, 13, 17]\n",
      "Soma dos elementos das listas: [24, 140, 143, 153]\n"
     ]
    }
   ],
   "source": [
    "import random as rd\n",
    "\n",
    "lista1 = [rd.randint(0,20), rd.randint(0,20), rd.randint(0,20), rd.randint(0,20)]\n",
    "lista2 = [rd.randint(0,20), rd.randint(0,20), rd.randint(0,20), rd.randint(0,20)]\n",
    "\n",
    "def multListas(lista1, lista2):\n",
    "    multLista = []\n",
    "    i = 0\n",
    "    while i < len(lista1):\n",
    "        x = lista1[i] * lista2[i]\n",
    "        multLista.append(x)\n",
    "        i = i + 1\n",
    "    return multLista\n",
    "        \n",
    "print(lista1)\n",
    "print(lista2)\n",
    "print('Soma dos elementos das listas:', multLista(lista1, lista2))"
   ]
  },
  {
   "cell_type": "markdown",
   "metadata": {},
   "source": [
    "Faça uma função que recebe um número x e uma lista numérica e retorna uma lista cujos elementos são os itens da lista de entrada multiplicado por x.\n",
    "\n",
    "Exemplo:\n",
    "\n",
    "Se a função receber o número 5 e a lista [3,5,1], então a função deve retornar [5x3, 5x5, 5x1] = [15, 25, 5]."
   ]
  },
  {
   "cell_type": "code",
   "execution_count": 20,
   "metadata": {
    "ExecuteTime": {
     "end_time": "2021-07-16T16:01:28.695024Z",
     "start_time": "2021-07-16T16:01:28.684055Z"
    }
   },
   "outputs": [
    {
     "name": "stdout",
     "output_type": "stream",
     "text": [
      "8\n",
      "[10, 13, 17, 4]\n",
      "Soma dos elementos das listas: [80, 104, 136, 32]\n"
     ]
    }
   ],
   "source": [
    "import random as rd\n",
    "\n",
    "x = rd.randint(0,20)\n",
    "lista = [rd.randint(0,20), rd.randint(0,20), rd.randint(0,20), rd.randint(0,20)]\n",
    "\n",
    "def multLista(n, lista):\n",
    "    multLista = []\n",
    "    i = 0\n",
    "    while i < len(lista):\n",
    "        x = n * lista[i]\n",
    "        multLista.append(x)\n",
    "        i = i + 1\n",
    "    return multLista\n",
    "        \n",
    "print(x)\n",
    "print(lista)\n",
    "print('Soma dos elementos das listas:', multLista(x, lista))"
   ]
  },
  {
   "cell_type": "markdown",
   "metadata": {},
   "source": [
    "Faça uma função que recebe uma lista de números e retorna a soma dos elementos dessa lista.\n",
    "\n"
   ]
  },
  {
   "cell_type": "code",
   "execution_count": 34,
   "metadata": {
    "ExecuteTime": {
     "end_time": "2021-07-16T16:18:35.687947Z",
     "start_time": "2021-07-16T16:18:35.680964Z"
    }
   },
   "outputs": [
    {
     "name": "stdout",
     "output_type": "stream",
     "text": [
      "[9.0, 2.0, 0.0, 8.0, 8.0, 9.0, 2.0, 0.0, 6.0, 4.0]\n"
     ]
    },
    {
     "data": {
      "text/plain": [
       "48.0"
      ]
     },
     "execution_count": 34,
     "metadata": {},
     "output_type": "execute_result"
    }
   ],
   "source": [
    "def somaLista (lista):\n",
    "    soma = []\n",
    "    for num in lista:\n",
    "        x = float(num)\n",
    "        soma.append(x)\n",
    "    return sum(soma)\n",
    "\n",
    "def geraListaInt(tamanho):\n",
    "    import random as rd\n",
    "\n",
    "    # Criando uma lista aleatória\n",
    "    lista = []\n",
    "#    tamanho = rd.randint(min, max)\n",
    "    i = 0\n",
    "    while i < tamanho:\n",
    "        lista.append(str(rd.randint(0, 9)))\n",
    "        i = i + 1\n",
    "    return lista\n",
    "\n",
    "geraListaInt(10)\n",
    "\n",
    "somaLista(geraListaInt(10))"
   ]
  },
  {
   "cell_type": "markdown",
   "metadata": {},
   "source": [
    "Desafio 1 - Faça uma função que receba um número e calcule seu fatorial.\n",
    "\n"
   ]
  },
  {
   "cell_type": "code",
   "execution_count": 18,
   "metadata": {
    "ExecuteTime": {
     "end_time": "2021-07-17T21:53:13.744474Z",
     "start_time": "2021-07-17T21:53:13.726522Z"
    }
   },
   "outputs": [
    {
     "data": {
      "text/plain": [
       "6"
      ]
     },
     "execution_count": 18,
     "metadata": {},
     "output_type": "execute_result"
    }
   ],
   "source": [
    "def fatorial (n):\n",
    "    f = n\n",
    "    i = n\n",
    "    while i > 1:\n",
    "        i = i - 1\n",
    "        f = f*i\n",
    "    return f\n",
    "\n",
    "fatorial(3)"
   ]
  },
  {
   "cell_type": "markdown",
   "metadata": {},
   "source": [
    "Super Desafio! - Repita o exercício anterior usando recursão, ou seja, uma função que chame ela mesma, lembrando que 3! = 3*2!, que 2! = 2*1!, que 1! = 1*0! e que 0! = 1.\n",
    "\n"
   ]
  },
  {
   "cell_type": "code",
   "execution_count": 23,
   "metadata": {
    "ExecuteTime": {
     "end_time": "2021-07-17T21:58:46.374419Z",
     "start_time": "2021-07-17T21:58:46.366443Z"
    }
   },
   "outputs": [
    {
     "data": {
      "text/plain": [
       "6"
      ]
     },
     "execution_count": 23,
     "metadata": {},
     "output_type": "execute_result"
    }
   ],
   "source": [
    "def fatorial (n):\n",
    "    if n in (1, 0):\n",
    "        f = 1\n",
    "    else:\n",
    "        f = n * fatorial(n-1)    \n",
    "    return f\n",
    "    \n",
    "fatorial(3)"
   ]
  },
  {
   "cell_type": "markdown",
   "metadata": {
    "ExecuteTime": {
     "end_time": "2021-07-17T22:06:22.270469Z",
     "start_time": "2021-07-17T22:06:22.255509Z"
    }
   },
   "source": [
    "Desafio 3 - A sequência Fibonacci é a sequência cujos dois primeiros termos são 1 e os demais são obtidos através da soma de seus dois antecessores, isso é:\n",
    "\n",
    "a. Fibonacci(1) = 1 e Fibonacci(2) = 2;\n",
    "\n",
    "b. dado qualquer número n >= 3, Fibonacci(n) = Fibonacci(n-1) + Fibonacci(n-2)\n",
    "\n",
    "Assim, os 10 primeiros termos da sequência Fibonacci são:\n",
    "\n",
    "1, 1, 2, 3, 5, 8, 13, 21, 34, 55…\n",
    "Faça uma função que receba um número n e calcule o termo de número n da sequência Fibonacci."
   ]
  },
  {
   "cell_type": "code",
   "execution_count": 84,
   "metadata": {
    "ExecuteTime": {
     "end_time": "2021-07-17T22:51:43.655116Z",
     "start_time": "2021-07-17T22:51:43.635164Z"
    }
   },
   "outputs": [
    {
     "data": {
      "text/plain": [
       "13"
      ]
     },
     "execution_count": 84,
     "metadata": {},
     "output_type": "execute_result"
    }
   ],
   "source": [
    "def Fibonacci (n):\n",
    "    i = 0\n",
    "    f1 = 2\n",
    "    f2 = 1\n",
    "    while i <= n:\n",
    "        if i in (1, 0):\n",
    "            f = 1\n",
    "        elif i == 2:\n",
    "            f = 2\n",
    "        else:\n",
    "            f = f1 + f2\n",
    "            f2 = f1\n",
    "            f1 = f\n",
    "        i = i + 1\n",
    "    return f\n",
    "    \n",
    "Fibonacci(6)"
   ]
  },
  {
   "cell_type": "markdown",
   "metadata": {},
   "source": [
    "Desafio 2 - Faça uma função que recebe duas entradas: um input dado pelo usuário e um string que informa o tipo de dado (\"idade\", \"salário\" ou \"sexo\"), e verifica se os dados digitados foram válidos, usando os seguintes critérios:\n",
    "\n",
    "a. Idade: entre 0 e 150;\n",
    "\n",
    "b. Salário: maior que 0;\n",
    "\n",
    "c. Sexo: M, F ou Outro."
   ]
  },
  {
   "cell_type": "code",
   "execution_count": 51,
   "metadata": {
    "ExecuteTime": {
     "end_time": "2021-07-17T22:28:48.654802Z",
     "start_time": "2021-07-17T22:28:48.644826Z"
    }
   },
   "outputs": [
    {
     "data": {
      "text/plain": [
       "True"
      ]
     },
     "execution_count": 51,
     "metadata": {},
     "output_type": "execute_result"
    }
   ],
   "source": [
    "def validacao (tipo, dado):\n",
    "    dadoValido = True\n",
    "    if tipo == 'idade':\n",
    "        if dado < 0 or dado > 150:\n",
    "            dadoValido = False\n",
    "    if tipo == 'salario':\n",
    "        if dado <= 0:\n",
    "            dadoValido = False\n",
    "    if tipo == 'sexo':\n",
    "        if dado not in ('M', 'F', 'Outro'):\n",
    "            dadoValido = False\n",
    "    return dadoValido\n",
    "\n",
    "validacao('sexo', 'Outro')    "
   ]
  },
  {
   "cell_type": "markdown",
   "metadata": {},
   "source": [
    "Super Desafio! - Refaça o desafio 3 usando recursão.\n",
    "\n"
   ]
  },
  {
   "cell_type": "code",
   "execution_count": 52,
   "metadata": {
    "ExecuteTime": {
     "end_time": "2021-07-17T22:30:52.211994Z",
     "start_time": "2021-07-17T22:30:52.197037Z"
    }
   },
   "outputs": [
    {
     "data": {
      "text/plain": [
       "8"
      ]
     },
     "execution_count": 52,
     "metadata": {},
     "output_type": "execute_result"
    }
   ],
   "source": [
    "def Fibonacci (n):\n",
    "    if n in (1, 0):\n",
    "        f = 1\n",
    "    elif n == 2:\n",
    "        f = 2\n",
    "    else:\n",
    "        f = Fibonacci(n-1) + Fibonacci(n-2)    \n",
    "    return f\n",
    "    \n",
    "Fibonacci(5)"
   ]
  },
  {
   "cell_type": "markdown",
   "metadata": {},
   "source": [
    "Super Desafio! - Faça um jogo de BlackJack usando funções: o BlackJack, ou Vinte e Um, é um jogo em que os jogadores podem comprar cartas livremente, enquanto tiverem menos de 21 pontos. No nosso jogo, o Ás vale um ponto; as cartas de 2 a 10 valem o número de pontos que elas representam; e Valete, Dama e Rei valem 10 pontos cada. Ganha o jogador que tiver o maior número de pontos, desde que este seja menor ou igual a 21. Nosso jogo deve ter as seguintes funções:\n",
    "\n",
    "a. Função principal: a função que vamos chamar para iniciar o jogo. Essa função não irá receber nem retornar nenhuma variável. Ela deve perguntar o número de jogadores participantes e o nome de cada um. Em seguida ela chama as outras funções do jogo.\n",
    "\n",
    "b. Função para criar o baralho: essa função deve criar um baralho (uma lista) com as cartas do baralho.\n",
    "\n",
    "c. Função para a jogada: essa função deve receber o nome do jogador que irá realizar a jogada e, caso ele ainda esteja ativo (tenha menos de 21 pontos e ainda não tenha desistido de comprar cartas) deve perguntar se ele quer comprar uma carta. Se ele responder que sim, a função deve chamar a próxima função para sortear uma carta e somar o valor retornado na pontuação do jogador; se ele responder que não, a função deve desativar o jogador para que ele não possa mais comprar cartas; Essa função só deve ser chamada enquanto houver jogadores ativos.\n",
    "\n",
    "d. Função para o sorteio: essa função retira uma carta aleatória do baralho e retorna o número de pontos que essa carta vale.\n",
    "\n",
    "e. Função verificação: verifica e indica qual/quais jogador/jogadores tem o maior número de pontos, que seja menor ou igual a 21."
   ]
  },
  {
   "cell_type": "code",
   "execution_count": 17,
   "metadata": {
    "ExecuteTime": {
     "end_time": "2021-07-18T21:45:45.743537Z",
     "start_time": "2021-07-18T21:44:43.124707Z"
    }
   },
   "outputs": [
    {
     "name": "stdout",
     "output_type": "stream",
     "text": [
      "Insira o número de jogadores: 2\n",
      "Insira o nome do jogador nº 1 :Felipe\n",
      "Insira o nome do jogador nº 2 :Jessica\n",
      "Felipe deseja sortear uma carta? s\n",
      "Carta sorteada: 8\n",
      "Pontuação do jogador Felipe: 8\n",
      "Jessica deseja sortear uma carta? s\n",
      "Carta sorteada: 5\n",
      "Pontuação do jogador Jessica: 5\n",
      "Felipe deseja sortear uma carta? s\n",
      "Carta sorteada: 8\n",
      "Pontuação do jogador Felipe: 16\n",
      "Jessica deseja sortear uma carta? s\n",
      "Carta sorteada: Rei\n",
      "Pontuação do jogador Jessica: 15\n",
      "Felipe deseja sortear uma carta? n\n",
      "Jessica deseja sortear uma carta? s\n",
      "Carta sorteada: 5\n",
      "Pontuação do jogador Jessica: 20\n",
      "Jessica deseja sortear uma carta? n\n",
      "Vencedor: Jessica, com 20 pontos!\n"
     ]
    }
   ],
   "source": [
    "pontos = {}\n",
    "ativo = {}\n",
    "\n",
    "def principal():\n",
    "    jogadores = []\n",
    "    InputCorreto = False\n",
    "    nJogadores = 0\n",
    "    while nJogadores == 0:\n",
    "        try:\n",
    "            nJogadores = int(input('Insira o número de jogadores: '))\n",
    "        except:\n",
    "            nJogadores = 0\n",
    "    i = 1\n",
    "    while i <= nJogadores:\n",
    "        jogador = input(f'Insira o nome do jogador nº {i} :')\n",
    "        jogadores.append(jogador)\n",
    "        i = i + 1\n",
    "        ativo[jogador] = 1\n",
    "        pontos[jogador] = 0\n",
    "    criaBaralho()\n",
    "    while nJogadores != 0 :\n",
    "        for jogador in jogadores:\n",
    "            if ativo[jogador] == 1:\n",
    "                jogada(jogador)\n",
    "            nJogadores = sum(ativo.values())\n",
    "    verificacao()\n",
    "    \n",
    "def criaBaralho():\n",
    "    baralho = []\n",
    "    baralho.append('Às')\n",
    "    i = 2\n",
    "    while i <= 10:\n",
    "        baralho.append(str(i))\n",
    "        i = i + 1\n",
    "    baralho.append('Valete')\n",
    "    baralho.append('Dama')\n",
    "    baralho.append('Rei')\n",
    "    return baralho\n",
    "    \n",
    "def jogada(jogador):\n",
    "    resposta = ' '\n",
    "    while resposta[0] not in ('s', 'S', 'n', 'N'):\n",
    "        resposta = input(f'{jogador} deseja sortear uma carta? ') + ' '\n",
    "    if resposta[0] in ('s', 'S'):\n",
    "        pontos[jogador] = pontos[jogador] + sorteio()\n",
    "        print(f'Pontuação do jogador {jogador}: {pontos[jogador]}')\n",
    "        if pontos[jogador] > 21:\n",
    "            ativo[jogador] = 0\n",
    "            print(f'{jogador}, sua pontuação ultrapassou 21')\n",
    "    else:\n",
    "        ativo[jogador] = 0\n",
    "\n",
    "def sorteio():\n",
    "    import random\n",
    "    baralho = criaBaralho()\n",
    "    carta = random.randint(0, 12)\n",
    "    carta = baralho[carta]\n",
    "    print(f'Carta sorteada: {carta}')\n",
    "    try:\n",
    "        pontos = int(carta)\n",
    "    except:\n",
    "        if carta == 'Às':\n",
    "            pontos = 1\n",
    "        else:\n",
    "            pontos = 10\n",
    "    return pontos\n",
    "    \n",
    "def verificacao():\n",
    "    maiorPonto = 0\n",
    "    for jogador in pontos:\n",
    "        if pontos[jogador] > 21:\n",
    "            pontos[jogador] = 0\n",
    "        elif maiorPonto < pontos[jogador]:\n",
    "            maiorPonto = pontos[jogador]\n",
    "    for jogador in pontos:\n",
    "        if maiorPonto == pontos[jogador]:\n",
    "            print(f'Vencedor: {jogador}, com {pontos[jogador]} pontos!')\n",
    "    \n",
    "principal()     "
   ]
  },
  {
   "cell_type": "markdown",
   "metadata": {},
   "source": [
    "Super desafio! Faça um sistema de cadastro de clientes. Modele cada cliente como uma lista de três elementos: nome, CPF e e-mail.\n",
    "\n",
    "a. Faça uma função que peça o nome, o CPF e o e-mail da pessoa e retorne uma lista contendo esses elementos nessa ordem.\n",
    "\n",
    "b. Os clientes cadastrados devem ser armazenados em uma lista (uma lista de listas, já que cada cliente será uma lista tal como produzido no item a).\n",
    "\n",
    "c. Faça uma função que recebe a lista do item b) e um CPF e, se esse cliente estiver na lista de cadastro, sua função deve devolver a lista de dados desse cliente; caso contrário, sua função deve imprimir “não encontrado”.\n",
    "\n",
    "d. Enquanto não for digitado 0, o seu programa deve continuar rodando. Se digitado 1, seu programa deve cadastrar um novo cliente; se digitado 2, seu programa deve pedir um CPF e procurá-lo na lista de clientes (item c); se digitado 3, seu programa deve imprimir todos os clientes cadastrados."
   ]
  },
  {
   "cell_type": "code",
   "execution_count": 1,
   "metadata": {
    "ExecuteTime": {
     "end_time": "2021-07-19T00:36:13.780153Z",
     "start_time": "2021-07-19T00:35:43.350696Z"
    }
   },
   "outputs": [
    {
     "name": "stdout",
     "output_type": "stream",
     "text": [
      "Digite 1 para cadastrar um novo usuário, 2 para realizar uma busca por CPF, 3 para imprimir os usuários cadastrados ou 0 para finalizar o programa: 1\n",
      "Nome: 1\n",
      "CPF: 1\n",
      "E-mail: 1\n",
      "Digite 1 para cadastrar um novo usuário, 2 para realizar uma busca por CPF, 3 para imprimir os usuários cadastrados ou 0 para finalizar o programa: 2\n",
      "Informe o CPF procurado: 1\n",
      "Nome: 1; CPF: 1; E-mail: 1\n",
      "Digite 1 para cadastrar um novo usuário, 2 para realizar uma busca por CPF, 3 para imprimir os usuários cadastrados ou 0 para finalizar o programa: 3\n",
      "Nome: 1; CPF: 1; E-mail: 1\n",
      "Digite 1 para cadastrar um novo usuário, 2 para realizar uma busca por CPF, 3 para imprimir os usuários cadastrados ou 0 para finalizar o programa: 2\n",
      "Informe o CPF procurado: 2\n",
      "CPF não encontrado\n",
      "Digite 1 para cadastrar um novo usuário, 2 para realizar uma busca por CPF, 3 para imprimir os usuários cadastrados ou 0 para finalizar o programa: 1\n",
      "Nome: 3\n",
      "CPF: 3\n",
      "E-mail: 3\n",
      "Digite 1 para cadastrar um novo usuário, 2 para realizar uma busca por CPF, 3 para imprimir os usuários cadastrados ou 0 para finalizar o programa: 2\n",
      "Informe o CPF procurado: 3\n",
      "Nome: 3; CPF: 3; E-mail: 3\n",
      "Digite 1 para cadastrar um novo usuário, 2 para realizar uma busca por CPF, 3 para imprimir os usuários cadastrados ou 0 para finalizar o programa: 3\n",
      "Nome: 1; CPF: 1; E-mail: 1\n",
      "Nome: 3; CPF: 3; E-mail: 3\n",
      "Digite 1 para cadastrar um novo usuário, 2 para realizar uma busca por CPF, 3 para imprimir os usuários cadastrados ou 0 para finalizar o programa: 0\n",
      "Fim\n"
     ]
    }
   ],
   "source": [
    "def cadastro():\n",
    "    sublista = []\n",
    "    nome = input('Nome: ')\n",
    "    sublista.append(nome)\n",
    "    CPF = input('CPF: ')\n",
    "    sublista.append(CPF)\n",
    "    email = input('E-mail: ')\n",
    "    sublista.append(email)\n",
    "    return sublista\n",
    "        \n",
    "def busca(cadastros, buscaCPF):\n",
    "    NaoEncontrou = True\n",
    "    for i in range(len(cadastros)):\n",
    "        if cadastros[i][1] == buscaCPF:\n",
    "            NaoEncontrou = False\n",
    "            return cadastros[i]\n",
    "    if NaoEncontrou:\n",
    "        print('CPF não encontrado')   \n",
    "        return ''\n",
    "\n",
    "def opcao():\n",
    "    resposta = ''\n",
    "    try:\n",
    "        while resposta not in (0, 1, 2, 3):\n",
    "            resposta = int(input('Digite 1 para cadastrar um novo usuário, 2 para realizar uma busca por CPF, 3 para imprimir os usuários cadastrados ou 0 para finalizar o programa: '))\n",
    "    except:\n",
    "        opcao()\n",
    "    return resposta\n",
    "\n",
    "resposta = opcao()\n",
    "cadastros = []\n",
    "while resposta != 0:\n",
    "    if resposta == 1:\n",
    "        cadastros.append(cadastro())\n",
    "        resposta = opcao()\n",
    "    elif resposta == 3:\n",
    "        for i in range(len(cadastros)):\n",
    "            print(f'Nome: {cadastros[i][0]}; CPF: {cadastros[i][1]}; E-mail: {cadastros[i][2]}')\n",
    "        resposta = opcao()\n",
    "    elif resposta == 2:\n",
    "        buscaCPF = input('Informe o CPF procurado: ')\n",
    "        procura = busca(cadastros, buscaCPF)\n",
    "        if procura != '':\n",
    "            print(f'Nome: {procura[0]}; CPF: {procura[1]}; E-mail: {procura[2]}')     \n",
    "        resposta = opcao()\n",
    "    else:\n",
    "        resposta = 0\n",
    "print('Fim')"
   ]
  },
  {
   "cell_type": "code",
   "execution_count": null,
   "metadata": {},
   "outputs": [],
   "source": []
  }
 ],
 "metadata": {
  "kernelspec": {
   "display_name": "Python 3",
   "language": "python",
   "name": "python3"
  },
  "language_info": {
   "codemirror_mode": {
    "name": "ipython",
    "version": 3
   },
   "file_extension": ".py",
   "mimetype": "text/x-python",
   "name": "python",
   "nbconvert_exporter": "python",
   "pygments_lexer": "ipython3",
   "version": "3.7.0"
  },
  "toc": {
   "base_numbering": 1,
   "nav_menu": {},
   "number_sections": true,
   "sideBar": true,
   "skip_h1_title": false,
   "title_cell": "Table of Contents",
   "title_sidebar": "Contents",
   "toc_cell": false,
   "toc_position": {},
   "toc_section_display": true,
   "toc_window_display": false
  }
 },
 "nbformat": 4,
 "nbformat_minor": 2
}
