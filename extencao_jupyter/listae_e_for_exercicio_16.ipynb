{
 "cells": [
  {
   "cell_type": "code",
   "execution_count": 1,
   "id": "bb75ba30",
   "metadata": {
    "ExecuteTime": {
     "end_time": "2021-07-27T22:23:35.974970Z",
     "start_time": "2021-07-27T22:23:17.688749Z"
    }
   },
   "outputs": [
    {
     "name": "stdout",
     "output_type": "stream",
     "text": [
      "digite o nome da aluna: gui\n",
      "digite a idade da aluna: 26\n",
      "quantas provas a aluna fez: 10\n",
      "digite a nota da aluna: 1\n",
      "digite a nota da aluna: 2\n",
      "digite a nota da aluna: 2\n",
      "digite a nota da aluna: 2\n",
      "digite a nota da aluna: 2\n",
      "digite a nota da aluna: 2\n",
      "digite a nota da aluna: 2\n",
      "digite a nota da aluna: 2\n",
      "digite a nota da aluna: 2\n",
      "digite a nota da aluna: 10\n",
      "['gui', 26.0, [1.0, 2.0, 2.0, 2.0, 2.0, 2.0, 2.0, 2.0, 2.0, 10.0], 2.0, False]\n"
     ]
    }
   ],
   "source": [
    "#exercicio 16\n",
    "nome = input(\"digite o nome da aluna: \")\n",
    "idade = float(input(\"digite a idade da aluna: \"))\n",
    "qtde = 0\n",
    "while qtde<3:\n",
    "    qtde = float(input(\"quantas provas a aluna fez: \"))\n",
    "aux = 0\n",
    "notas = []\n",
    "while aux < qtde:\n",
    "    notas.append(float(input(\"digite a nota da aluna: \")))\n",
    "    aux += 1\n",
    "n = []\n",
    "\n",
    "for y in notas:\n",
    "    n.append(y)\n",
    "\n",
    "n.remove(max(n))\n",
    "n.remove(min(n))\n",
    "\n",
    "media = sum(n)/(qtde - 2)\n",
    "if media > 5:\n",
    "    x = True\n",
    "else:\n",
    "    x = False\n",
    "l = [nome, idade, notas, media, x]\n",
    "\n",
    "print(l)"
   ]
  },
  {
   "cell_type": "code",
   "execution_count": null,
   "id": "5cc502ed",
   "metadata": {},
   "outputs": [],
   "source": []
  }
 ],
 "metadata": {
  "kernelspec": {
   "display_name": "Python 3",
   "language": "python",
   "name": "python3"
  },
  "language_info": {
   "codemirror_mode": {
    "name": "ipython",
    "version": 3
   },
   "file_extension": ".py",
   "mimetype": "text/x-python",
   "name": "python",
   "nbconvert_exporter": "python",
   "pygments_lexer": "ipython3",
   "version": "3.8.8"
  },
  "toc": {
   "base_numbering": 1,
   "nav_menu": {},
   "number_sections": true,
   "sideBar": true,
   "skip_h1_title": false,
   "title_cell": "Table of Contents",
   "title_sidebar": "Contents",
   "toc_cell": false,
   "toc_position": {},
   "toc_section_display": true,
   "toc_window_display": false
  }
 },
 "nbformat": 4,
 "nbformat_minor": 5
}
