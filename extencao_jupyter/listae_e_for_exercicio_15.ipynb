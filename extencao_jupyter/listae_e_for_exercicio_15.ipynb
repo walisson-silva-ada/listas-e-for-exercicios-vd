{
 "cells": [
  {
   "cell_type": "code",
   "execution_count": 1,
   "id": "d2080ed9",
   "metadata": {
    "ExecuteTime": {
     "end_time": "2021-07-27T22:22:51.192609Z",
     "start_time": "2021-07-27T22:22:35.785732Z"
    }
   },
   "outputs": [
    {
     "name": "stdout",
     "output_type": "stream",
     "text": [
      "digite o nome da aluna: Guilherme\n",
      "digite a idade da aluna: 27\n",
      "quantas provas a aluna fez: 15\n",
      "digite a nota da aluna: 2\n",
      "digite a nota da aluna: 4\n",
      "digite a nota da aluna: 5\n",
      "digite a nota da aluna: 8\n",
      "digite a nota da aluna: 7\n",
      "digite a nota da aluna: 9\n",
      "digite a nota da aluna: 6\n",
      "digite a nota da aluna: 9\n",
      "digite a nota da aluna: 9\n",
      "digite a nota da aluna: 3\n",
      "digite a nota da aluna: 4\n",
      "digite a nota da aluna: 5\n",
      "digite a nota da aluna: 6\n",
      "digite a nota da aluna: 7\n",
      "digite a nota da aluna: 8\n",
      "['Guilherme', 27.0, [2.0, 4.0, 5.0, 8.0, 7.0, 9.0, 6.0, 9.0, 9.0, 3.0, 4.0, 5.0, 6.0, 7.0, 8.0], 6.133333333333334, True]\n"
     ]
    }
   ],
   "source": [
    "#exercicio 15\n",
    "nome = input(\"digite o nome da aluna: \")\n",
    "idade = float(input(\"digite a idade da aluna: \"))\n",
    "qtde = float(input(\"quantas provas a aluna fez: \"))\n",
    "aux = 0\n",
    "notas = []\n",
    "while aux < qtde:\n",
    "    notas.append(float(input(\"digite a nota da aluna: \")))\n",
    "    aux += 1\n",
    "\n",
    "media = sum(notas)/qtde\n",
    "if media > 5:\n",
    "    x = True\n",
    "l = [nome, idade, notas, media, x]\n",
    "\n",
    "print(l)\n"
   ]
  },
  {
   "cell_type": "code",
   "execution_count": null,
   "id": "b89dd167",
   "metadata": {},
   "outputs": [],
   "source": []
  }
 ],
 "metadata": {
  "kernelspec": {
   "display_name": "Python 3",
   "language": "python",
   "name": "python3"
  },
  "language_info": {
   "codemirror_mode": {
    "name": "ipython",
    "version": 3
   },
   "file_extension": ".py",
   "mimetype": "text/x-python",
   "name": "python",
   "nbconvert_exporter": "python",
   "pygments_lexer": "ipython3",
   "version": "3.8.8"
  },
  "toc": {
   "base_numbering": 1,
   "nav_menu": {},
   "number_sections": true,
   "sideBar": true,
   "skip_h1_title": false,
   "title_cell": "Table of Contents",
   "title_sidebar": "Contents",
   "toc_cell": false,
   "toc_position": {},
   "toc_section_display": true,
   "toc_window_display": false
  }
 },
 "nbformat": 4,
 "nbformat_minor": 5
}
