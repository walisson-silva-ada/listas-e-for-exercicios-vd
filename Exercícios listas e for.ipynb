{
 "cells": [
  {
   "cell_type": "markdown",
   "metadata": {},
   "source": [
    "Crie uma lista qualquer e faça um programa que imprima cada elemento da lista usando o for.\n",
    "\n"
   ]
  },
  {
   "cell_type": "code",
   "execution_count": 8,
   "metadata": {
    "ExecuteTime": {
     "end_time": "2021-07-12T15:35:11.355577Z",
     "start_time": "2021-07-12T15:35:11.338910Z"
    }
   },
   "outputs": [
    {
     "name": "stdout",
     "output_type": "stream",
     "text": [
      "5\n",
      "8\n",
      "15\n",
      "19\n"
     ]
    }
   ],
   "source": [
    "import random as rd\n",
    "\n",
    "lista = [rd.randint(1,5), rd.randint(6,10), rd.randint(11,15), rd.randint(16,20)]\n",
    "\n",
    "for item in lista:\n",
    "    print(item)"
   ]
  },
  {
   "cell_type": "markdown",
   "metadata": {},
   "source": [
    "Faça um programa que imprima todos os itens de uma lista usando while e compare com o exercício 1.\n",
    "\n"
   ]
  },
  {
   "cell_type": "code",
   "execution_count": 9,
   "metadata": {
    "ExecuteTime": {
     "end_time": "2021-07-12T15:37:59.272480Z",
     "start_time": "2021-07-12T15:37:59.262840Z"
    }
   },
   "outputs": [
    {
     "name": "stdout",
     "output_type": "stream",
     "text": [
      "1\n",
      "10\n",
      "14\n",
      "18\n"
     ]
    }
   ],
   "source": [
    "import random as rd\n",
    "\n",
    "lista = [rd.randint(1,5), rd.randint(6,10), rd.randint(11,15), rd.randint(16,20)]\n",
    "\n",
    "i = 0\n",
    "\n",
    "while i < len(lista):\n",
    "    print(lista[i])\n",
    "    i = i + 1\n",
    "#O resultado pode ser o mesmo, mas tive que criar um contador para uso do while"
   ]
  },
  {
   "cell_type": "markdown",
   "metadata": {},
   "source": [
    "Faça um programa que peça para o usuário digitar um número n e imprima uma lista com todos os números de 0 a n-1.\n",
    "\n",
    "Exemplo: se o usuário digitar 5, o programa deve imprimir [0, 1, 2, 3, 4]"
   ]
  },
  {
   "cell_type": "code",
   "execution_count": 18,
   "metadata": {
    "ExecuteTime": {
     "end_time": "2021-07-12T15:52:10.298658Z",
     "start_time": "2021-07-12T15:52:09.110915Z"
    }
   },
   "outputs": [
    {
     "name": "stdout",
     "output_type": "stream",
     "text": [
      "Insira um número inteiro: 5\n"
     ]
    },
    {
     "data": {
      "text/plain": [
       "[0, 1, 2, 3, 4]"
      ]
     },
     "execution_count": 18,
     "metadata": {},
     "output_type": "execute_result"
    }
   ],
   "source": [
    "n = int(input('Insira um número inteiro: '))\n",
    "\n",
    "i = 0\n",
    "lista = []\n",
    "\n",
    "while i < n:\n",
    "    lista.append(i)\n",
    "    i = i + 1\n",
    "lista"
   ]
  },
  {
   "cell_type": "markdown",
   "metadata": {},
   "source": [
    "Faça um programa que olhe todos os itens de uma lista e diga quantos deles são pares."
   ]
  },
  {
   "cell_type": "code",
   "execution_count": 22,
   "metadata": {
    "ExecuteTime": {
     "end_time": "2021-07-12T15:56:37.285991Z",
     "start_time": "2021-07-12T15:56:37.269993Z"
    }
   },
   "outputs": [
    {
     "name": "stdout",
     "output_type": "stream",
     "text": [
      "Lista: [5, 6, 11, 20]\n",
      "Total de números pares: 2\n"
     ]
    }
   ],
   "source": [
    "import random as rd\n",
    "\n",
    "lista = [rd.randint(1,5), rd.randint(6,10), rd.randint(11,15), rd.randint(16,20)]\n",
    "cont = 0\n",
    "\n",
    "for item in lista:\n",
    "    if (item % 2 == 0):\n",
    "        cont = cont + 1\n",
    "print('Lista:', lista)\n",
    "print('Total de números pares:', cont)"
   ]
  },
  {
   "cell_type": "markdown",
   "metadata": {},
   "source": [
    "Faça um programa que imprima o maior número de uma lista, sem usar a função max().\n",
    "\n"
   ]
  },
  {
   "cell_type": "code",
   "execution_count": 32,
   "metadata": {
    "ExecuteTime": {
     "end_time": "2021-07-12T15:58:59.696695Z",
     "start_time": "2021-07-12T15:58:59.678633Z"
    }
   },
   "outputs": [
    {
     "name": "stdout",
     "output_type": "stream",
     "text": [
      "Lista: [13, 13, 19, 17]\n",
      "Valor máximo 19\n"
     ]
    }
   ],
   "source": [
    "import random as rd\n",
    "\n",
    "lista = [rd.randint(0,20), rd.randint(0,20), rd.randint(0,20), rd.randint(0,20)]\n",
    "vMax = 0\n",
    "\n",
    "for item in lista:\n",
    "    if (item > vMax):\n",
    "        vMax = item\n",
    "print('Lista:', lista)\n",
    "print('Valor máximo', vMax)"
   ]
  },
  {
   "cell_type": "markdown",
   "metadata": {},
   "source": [
    "Agora usando a função max() faça um programa que imprima os três maiores números de uma lista.\n",
    "\n",
    "Dica: Use o método próprio de listas .remove()."
   ]
  },
  {
   "cell_type": "code",
   "execution_count": 36,
   "metadata": {
    "ExecuteTime": {
     "end_time": "2021-07-12T16:06:49.359698Z",
     "start_time": "2021-07-12T16:06:49.350693Z"
    }
   },
   "outputs": [
    {
     "name": "stdout",
     "output_type": "stream",
     "text": [
      "Lista: [19, 14, 6, 1]\n",
      "Valor máximo nº 0 : 19\n",
      "Valor máximo nº 1 : 14\n",
      "Valor máximo nº 2 : 6\n"
     ]
    }
   ],
   "source": [
    "import random as rd\n",
    "\n",
    "lista = [rd.randint(0,20), rd.randint(0,20), rd.randint(0,20), rd.randint(0,20)]\n",
    "vMax = 0\n",
    "i = 0\n",
    "\n",
    "print('Lista:', lista)\n",
    "\n",
    "while (i < 3):\n",
    "    vMax = max(lista)\n",
    "    lista.remove(vMax)\n",
    "    print('Valor máximo nº', i, ':', vMax)\n",
    "    i = i + 1"
   ]
  },
  {
   "cell_type": "markdown",
   "metadata": {},
   "source": [
    "Faça um programa que, dadas duas listas de mesmo tamanho, crie uma nova lista com cada elemento igual a soma dos elementos da lista 1 com os da lista 2, na mesma posição.\n",
    "\n",
    "Exemplo:\n",
    "\n",
    "Dadas lista1 = [1, 4, 5] e lista2 = [2, 2, 3], então lista3 = [1+2, 4+2, 5+3] = [3, 6, 8]"
   ]
  },
  {
   "cell_type": "code",
   "execution_count": 3,
   "metadata": {
    "ExecuteTime": {
     "end_time": "2021-07-12T16:15:41.995210Z",
     "start_time": "2021-07-12T16:15:41.983242Z"
    }
   },
   "outputs": [
    {
     "name": "stdout",
     "output_type": "stream",
     "text": [
      "Primeira lista: [9, 7, 10, 17]\n",
      "Segunda lista: [11, 1, 7, 1]\n",
      "Soma dos elementos das listas: [20, 8, 17, 18]\n"
     ]
    }
   ],
   "source": [
    "import random as rd\n",
    "\n",
    "lista1 = [rd.randint(0,20), rd.randint(0,20), rd.randint(0,20), rd.randint(0,20)]\n",
    "lista2 = [rd.randint(0,20), rd.randint(0,20), rd.randint(0,20), rd.randint(0,20)]\n",
    "\n",
    "print('Primeira lista:', lista1)\n",
    "print('Segunda lista:', lista2)\n",
    "\n",
    "somaLista = []\n",
    "\n",
    "i = 0\n",
    "\n",
    "while i < len(lista1):\n",
    "    x = lista1[i] + lista2[i]\n",
    "    somaLista.append(x)\n",
    "    i = i + 1\n",
    "print('Soma dos elementos das listas:', somaLista)"
   ]
  },
  {
   "cell_type": "markdown",
   "metadata": {},
   "source": [
    "Faça um programa que dadas duas listas de mesmo tamanho, imprima o produto escalar entre elas.\n",
    "\n",
    "OBS: produto escalar é a soma do resultado da multiplicação entre o número na posição i da lista1 pelo número na posição i da lista2, com i variando de 0 ao tamanho da lista."
   ]
  },
  {
   "cell_type": "code",
   "execution_count": 6,
   "metadata": {
    "ExecuteTime": {
     "end_time": "2021-07-12T16:18:06.398789Z",
     "start_time": "2021-07-12T16:18:06.391762Z"
    }
   },
   "outputs": [
    {
     "name": "stdout",
     "output_type": "stream",
     "text": [
      "Primeira lista: [14, 20, 0, 8]\n",
      "Segunda lista: [12, 17, 3, 4]\n",
      "Multiplicação dos elementos das listas: [168, 340, 0, 32]\n",
      "Produto escalar: 540\n"
     ]
    }
   ],
   "source": [
    "import random as rd\n",
    "\n",
    "lista1 = [rd.randint(0,20), rd.randint(0,20), rd.randint(0,20), rd.randint(0,20)]\n",
    "lista2 = [rd.randint(0,20), rd.randint(0,20), rd.randint(0,20), rd.randint(0,20)]\n",
    "\n",
    "print('Primeira lista:', lista1)\n",
    "print('Segunda lista:', lista2)\n",
    "\n",
    "mult = []\n",
    "\n",
    "i = 0\n",
    "\n",
    "while i < len(lista1):\n",
    "    x = lista1[i] * lista2[i]\n",
    "    mult.append(x)\n",
    "    i = i + 1\n",
    "soma = sum(mult)\n",
    "print('Multiplicação dos elementos das listas:', mult)\n",
    "print('Produto escalar:', soma)"
   ]
  },
  {
   "cell_type": "markdown",
   "metadata": {},
   "source": [
    "Faça um programa que pede para o usuário digitar 5 números e, ao final, imprime uma lista com os 5 números digitados pelo usuário (sem converter os números para int ou float).\n",
    "\n",
    "Exemplo: Se o usuário digitar 1, 5, 2, 3, 6, o programa deve imprimir a lista ['1','5','2','3','6']"
   ]
  },
  {
   "cell_type": "code",
   "execution_count": 3,
   "metadata": {
    "ExecuteTime": {
     "end_time": "2021-07-12T16:24:03.116605Z",
     "start_time": "2021-07-12T16:23:55.014813Z"
    }
   },
   "outputs": [
    {
     "name": "stdout",
     "output_type": "stream",
     "text": [
      "Digite um número:54\n",
      "Digite um número:52\n",
      "Digite um número:-9\n",
      "Digite um número:45\n",
      "Digite um número:15\n"
     ]
    },
    {
     "data": {
      "text/plain": [
       "['54', '52', '-9', '45', '15']"
      ]
     },
     "execution_count": 3,
     "metadata": {},
     "output_type": "execute_result"
    }
   ],
   "source": [
    "i = 0\n",
    "lista = []\n",
    "\n",
    "while i < 5:\n",
    "    item = input('Digite um número:')\n",
    "    lista.append(item)\n",
    "    i = i + 1\n",
    "lista"
   ]
  },
  {
   "cell_type": "markdown",
   "metadata": {
    "ExecuteTime": {
     "end_time": "2021-07-12T16:23:27.104422Z",
     "start_time": "2021-07-12T16:23:27.095404Z"
    }
   },
   "source": [
    "Pegue a lista gerada no exercício anterior e transforme cada um dos itens dessa lista em um float.\n",
    "\n",
    "OBS: Não é para alterar o programa anterior, mas sim a lista gerada por ele.\n"
   ]
  },
  {
   "cell_type": "code",
   "execution_count": 5,
   "metadata": {
    "ExecuteTime": {
     "end_time": "2021-07-12T16:27:10.435572Z",
     "start_time": "2021-07-12T16:27:10.424602Z"
    }
   },
   "outputs": [
    {
     "data": {
      "text/plain": [
       "[54.0, 52.0, -9.0, 45.0, 15.0]"
      ]
     },
     "execution_count": 5,
     "metadata": {},
     "output_type": "execute_result"
    }
   ],
   "source": [
    "lista = ['54', '52', '-9', '45', '15']\n",
    "\n",
    "listaFloat = []\n",
    "\n",
    "for i in lista:\n",
    "    listaFloat.append(float(i))\n",
    "listaFloat"
   ]
  },
  {
   "cell_type": "markdown",
   "metadata": {},
   "source": [
    "Faça um programa que peça as 4 notas bimestrais e mostre a média aritmética delas, usando listas.\n",
    "\n"
   ]
  },
  {
   "cell_type": "code",
   "execution_count": 9,
   "metadata": {
    "ExecuteTime": {
     "end_time": "2021-07-12T16:31:07.640123Z",
     "start_time": "2021-07-12T16:31:04.463099Z"
    }
   },
   "outputs": [
    {
     "name": "stdout",
     "output_type": "stream",
     "text": [
      "Digite a nota:7\n",
      "Digite a nota:7\n",
      "Digite a nota:7\n",
      "Digite a nota:7\n",
      "Média calculada: 7.0\n"
     ]
    }
   ],
   "source": [
    "i = 0\n",
    "lista = []\n",
    "\n",
    "while i < 4:\n",
    "    item = float(input('Digite a nota:'))\n",
    "    lista.append(item)\n",
    "    i = i + 1\n",
    "media = sum(lista) / len(lista)\n",
    "print('Média calculada:', media)"
   ]
  },
  {
   "cell_type": "markdown",
   "metadata": {},
   "source": [
    "Sorteie uma lista de 10 números e imprima:\n",
    "\n",
    "a. uma lista com os 4 primeiros números;\n",
    "\n",
    "b. uma lista com os 5 últimos números;\n",
    "\n",
    "c. uma lista contendo apenas os elementos das posições pares;\n",
    "\n",
    "d. uma lista contendo apenas os elementos das posições ímpares;\n",
    "\n",
    "e. a lista inversa da lista sorteada (isto é, uma lista que começa com o último elemento da lista sorteada e termina com o primeiro);\n",
    "\n",
    "f. uma lista inversa dos 5 primeiros números;\n",
    "\n",
    "g. uma lista inversa dos 5 últimos números."
   ]
  },
  {
   "cell_type": "code",
   "execution_count": 26,
   "metadata": {
    "ExecuteTime": {
     "end_time": "2021-07-12T16:51:17.411039Z",
     "start_time": "2021-07-12T16:51:17.392090Z"
    }
   },
   "outputs": [
    {
     "name": "stdout",
     "output_type": "stream",
     "text": [
      "Lista original: [7, 19, 20, 10, 6, 17, 19, 7, 14, 11]\n",
      "a) [7, 19, 20, 10]\n",
      "b) [17, 19, 7, 14, 11]\n",
      "c) [20, 10, 6, 14]\n",
      "d) [7, 19, 17, 19, 7, 11]\n",
      "e) [11, 14, 7, 19, 17, 6, 10, 20, 19, 7]\n",
      "f) [6, 10, 20, 19, 7]\n",
      "g) [11, 14, 7, 19, 17]\n"
     ]
    }
   ],
   "source": [
    "import random as rd\n",
    "\n",
    "# Criando a lista aleatória\n",
    "lista = [rd.randint(0,20), rd.randint(0,20), rd.randint(0,20), rd.randint(0,20), rd.randint(0,20), rd.randint(0,20), rd.randint(0,20), rd.randint(0,20), rd.randint(0,20), rd.randint(0,20)]\n",
    "\n",
    "print('Lista original:', lista)\n",
    "\n",
    "# Exercício a\n",
    "listaA = lista[0:4]\n",
    "\n",
    "print('a)', listaA)\n",
    "\n",
    "# Exercício b\n",
    "listaB = lista[-5:-1]\n",
    "listaB.append(lista[-1])\n",
    "\n",
    "print('b)', listaB)\n",
    "\n",
    "# Exercício c & d\n",
    "listaC = []\n",
    "listaD = []\n",
    "\n",
    "for item in lista:  \n",
    "    if (item % 2 == 0):\n",
    "        listaC.append(item)\n",
    "    else:\n",
    "        listaD.append(item)\n",
    "\n",
    "print('c)', listaC)\n",
    "\n",
    "print('d)', listaD)\n",
    "\n",
    "# Exercício e\n",
    "listaE = lista[::-1]\n",
    "\n",
    "print('e)', listaE)\n",
    "\n",
    "# Exercício f\n",
    "lista_5primeiros = lista[0:5]\n",
    "\n",
    "listaF = lista_5primeiros[::-1]\n",
    "\n",
    "print('f)', listaF)\n",
    "\n",
    "# Exercício g\n",
    "listaG = listaB[::-1]\n",
    "\n",
    "print('g)', listaG)"
   ]
  },
  {
   "cell_type": "markdown",
   "metadata": {},
   "source": [
    "Faça um programa que sorteia 10 números entre 0 e 100 e conte quantos números sorteados são maiores que 50."
   ]
  },
  {
   "cell_type": "code",
   "execution_count": 30,
   "metadata": {
    "ExecuteTime": {
     "end_time": "2021-07-12T16:54:26.422070Z",
     "start_time": "2021-07-12T16:54:26.408107Z"
    }
   },
   "outputs": [
    {
     "name": "stdout",
     "output_type": "stream",
     "text": [
      "Lista original: [17, 41, 59, 15, 51, 21, 30, 25, 53, 86]\n",
      "Total de números maiores que 50: 4\n"
     ]
    }
   ],
   "source": [
    "import random as rd\n",
    "\n",
    "# Criando a lista aleatória\n",
    "lista = [rd.randint(0,100), rd.randint(0,100), rd.randint(0,100), rd.randint(0,100),rd.randint(0,100), rd.randint(0,100),rd.randint(0,100), rd.randint(0,100),rd.randint(0,100), rd.randint(0,100)]\n",
    "print('Lista original:', lista)\n",
    "\n",
    "cont = 0\n",
    "\n",
    "for item in lista:\n",
    "    if (item > 50):\n",
    "        cont = cont + 1\n",
    "\n",
    "print('Total de números maiores que 50:', cont)\n"
   ]
  },
  {
   "cell_type": "markdown",
   "metadata": {},
   "source": [
    "Faça um programa que sorteie 10 números entre 0 e 100 e imprima:\n",
    "\n",
    "a. o maior número sorteado;\n",
    "\n",
    "b. o menor número sorteado;\n",
    "\n",
    "c. a média dos números sorteados;\n",
    "\n",
    "d. a soma dos números sorteados.\n"
   ]
  },
  {
   "cell_type": "code",
   "execution_count": 34,
   "metadata": {
    "ExecuteTime": {
     "end_time": "2021-07-12T16:57:51.980219Z",
     "start_time": "2021-07-12T16:57:51.967296Z"
    }
   },
   "outputs": [
    {
     "name": "stdout",
     "output_type": "stream",
     "text": [
      "Lista original: [95, 17, 94, 11, 2, 52, 63, 8, 70, 42]\n",
      "a) 95\n",
      "b) 2\n",
      "c) 45.4\n",
      "d) 454\n"
     ]
    }
   ],
   "source": [
    "import random as rd\n",
    "\n",
    "# Criando a lista aleatória\n",
    "lista = [rd.randint(0,100), rd.randint(0,100), rd.randint(0,100), rd.randint(0,100),rd.randint(0,100), rd.randint(0,100),rd.randint(0,100), rd.randint(0,100),rd.randint(0,100), rd.randint(0,100)]\n",
    "print('Lista original:', lista)\n",
    "\n",
    "# Exercício a\n",
    "maior = max(lista)\n",
    "print('a)', maior)\n",
    "\n",
    "# Exercício b\n",
    "menor = min(lista)\n",
    "print('b)', menor)\n",
    "\n",
    "# Exercício c\n",
    "media = sum(lista) / len(lista)\n",
    "print('c)', media)\n",
    "\n",
    "# Exercício d\n",
    "soma = sum(lista)\n",
    "print('d)', soma)"
   ]
  },
  {
   "cell_type": "markdown",
   "metadata": {},
   "source": [
    "Desafio 1 - Faça um programa que peça para o usuário digitar o nome e a idade de um aluno e o número de provas que esse aluno fez. Depois, o programa deve pedir para o usuário digitar as notas de cada prova do aluno. Ao final o programa deve imprimir uma lista contendo:\n",
    "\n",
    "a. Nome do aluno na posição 0;\n",
    "\n",
    "b. Idade do aluno na posição 1;\n",
    "\n",
    "c. Uma lista com todas as notas na posição 2;\n",
    "\n",
    "d. A média do aluno na posição 3;\n",
    "\n",
    "e. True ou False, caso a média seja maior que 5 ou não, na posição 4.\n",
    "\n",
    "Dica: Use o que você fez nos exercícios anteriores para criar esse programa."
   ]
  },
  {
   "cell_type": "code",
   "execution_count": 2,
   "metadata": {
    "ExecuteTime": {
     "end_time": "2021-07-12T17:07:35.692405Z",
     "start_time": "2021-07-12T17:07:25.510406Z"
    }
   },
   "outputs": [
    {
     "name": "stdout",
     "output_type": "stream",
     "text": [
      "Insira o nome do aluno: Felipe\n",
      "Insira a idade do aluno: 26\n",
      "Insira uma nota do aluno: 10\n",
      "Insira uma nota do aluno: 9\n",
      "Insira uma nota do aluno: 8\n",
      "Insira uma nota do aluno: 7\n",
      "['Felipe', 26, [10.0, 9.0, 8.0, 7.0], 8.5, True]\n"
     ]
    }
   ],
   "source": [
    "lista = []\n",
    "nome = input('Insira o nome do aluno: ')\n",
    "idade = int(input('Insira a idade do aluno: '))\n",
    "nProvas = int(input('Insira o número de provas: '))\n",
    "notas = []\n",
    "i = 0\n",
    "\n",
    "lista.append(nome)\n",
    "lista.append(idade)\n",
    "\n",
    "while i < nProvas:\n",
    "    nota = float(input('Insira uma nota do aluno: '))\n",
    "    i = i + 1\n",
    "    notas.append(nota)\n",
    "lista.append(notas)\n",
    "\n",
    "media = sum(notas) / len(notas)\n",
    "lista.append(media)\n",
    "\n",
    "if (media > 5):\n",
    "    aprovado = True\n",
    "else:\n",
    "    aprovado = False\n",
    "lista.append(aprovado)\n",
    "\n",
    "print(lista)"
   ]
  },
  {
   "cell_type": "markdown",
   "metadata": {},
   "source": [
    "Desafio 2 - Faça um programa como o do item anterior, porém que imprima a média sem considerar a maior e menor nota do aluno (nesse caso o número de provas precisa ser obrigatoriamente maior que dois).\n",
    "\n",
    "Dica: crie uma cópia com a lista de todas as notas antes de fazer a média."
   ]
  },
  {
   "cell_type": "code",
   "execution_count": 4,
   "metadata": {
    "ExecuteTime": {
     "end_time": "2021-07-12T17:15:47.769940Z",
     "start_time": "2021-07-12T17:15:32.478137Z"
    }
   },
   "outputs": [
    {
     "name": "stdout",
     "output_type": "stream",
     "text": [
      "Insira o nome do aluno: Felipe\n",
      "Insira a idade do aluno: 26\n",
      "Insira o número de provas (maior que 2): 5\n",
      "Insira uma nota do aluno: 10\n",
      "Insira uma nota do aluno: 0\n",
      "Insira uma nota do aluno: 5\n",
      "Insira uma nota do aluno: 5\n",
      "Insira uma nota do aluno: 5\n",
      "['Felipe', 26, [5.0, 5.0, 5.0], 5.0, False]\n"
     ]
    }
   ],
   "source": [
    "lista = []\n",
    "nProvas = 0\n",
    "nome = input('Insira o nome do aluno: ')\n",
    "idade = int(input('Insira a idade do aluno: '))\n",
    "\n",
    "while (nProvas <= 2):\n",
    "    nProvas = int(input('Insira o número de provas (maior que 2): '))\n",
    "\n",
    "notas = []\n",
    "i = 0\n",
    "\n",
    "lista.append(nome)\n",
    "lista.append(idade)\n",
    "\n",
    "while i < nProvas:\n",
    "    nota = float(input('Insira uma nota do aluno: '))\n",
    "    i = i + 1\n",
    "    notas.append(nota)\n",
    "lista.append(notas)\n",
    "\n",
    "maiorNota = max(notas)\n",
    "notas.remove(maiorNota)\n",
    "\n",
    "menorNota = min(notas)\n",
    "notas.remove(menorNota)\n",
    "\n",
    "\n",
    "media = sum(notas) / len(notas)\n",
    "lista.append(media)\n",
    "\n",
    "if (media > 5):\n",
    "    aprovado = True\n",
    "else:\n",
    "    aprovado = False\n",
    "lista.append(aprovado)\n",
    "\n",
    "print(lista)"
   ]
  },
  {
   "cell_type": "markdown",
   "metadata": {},
   "source": [
    "Desafio 3 - Faça um programa que pede para o usuário digitar o CPF e verifica se ele é válido. Para isso, primeiramente o programa deve multiplicar cada um dos 9 primeiros dígitos do CPF pelos números de 10 a 2 e somar todas as respostas. O resultado deve ser multiplicado por 10 e dividido por 11. O resto dessa divisão deve ser igual ao primeiro dígito verificador (10º dígito). Em seguida, o programa deve multiplicar cada um dos 10 primeiros dígitos do CPF pelos números de 11 a 2 e repetir o procedimento anterior para verificar o segundo dígito verificador.\n",
    "\n",
    "Exemplo:\n",
    "\n",
    "Se o CPF for 286.255.878-87 o programa deve fazer primeiro:\n",
    "\n",
    "X = (2x10 + 8x9 + 6x8 + 2x7 + 5x6 + 5x5 + 8x4 + 7x3 + 8x2)\n",
    "\n",
    "Em seguida, o programa deve testar se x*10%11 == 8 (o décimo número do CPF). Se sim, o programa deve calcular:\n",
    "\n",
    "X = (2x11 + 8x10 + 6x9 + 2x8 + 5x7 + 5x6 + 8x5 + 7x4 + 8x3 + 8x2)\n",
    "\n",
    "e verificar se x*10%11 == 7 (o décimo primeiro número do CPF)."
   ]
  },
  {
   "cell_type": "code",
   "execution_count": 22,
   "metadata": {
    "ExecuteTime": {
     "end_time": "2021-07-12T17:38:33.823687Z",
     "start_time": "2021-07-12T17:38:29.053870Z"
    }
   },
   "outputs": [
    {
     "name": "stdout",
     "output_type": "stream",
     "text": [
      "Digite seu CPF, (somente números): 43447633868\n",
      "CPF inválido\n"
     ]
    }
   ],
   "source": [
    "cpf = input('Digite seu CPF, (somente números): ')\n",
    "\n",
    "CPF = list(cpf)\n",
    "CPFint = []\n",
    "\n",
    "for i in CPF:\n",
    "    CPFint.append(int(i))\n",
    "CPF = CPFint\n",
    "\n",
    "x = CPF[0]*10 + CPF[1]*9 + CPF[2]*8 + CPF[3]*7 + CPF[4]*6 + CPF[5]*5 + CPF[6]*4 + CPF[7]*3 + CPF[8]*2\n",
    "\n",
    "teste = x*10%11\n",
    "\n",
    "if teste == CPF[9]:\n",
    "    x = CPF[0]*11 + CPF[1]*10 + CPF[2]*9 + CPF[3]*8 + CPF[4]*7 + CPF[5]*6 + CPF[6]*5 + CPF[7]*4 + CPF[8]*3 + CPF[9]*2\n",
    "    teste2 = x*10%11\n",
    "    if teste2 == CPF[10]:\n",
    "        print('CPF válido')\n",
    "    else:\n",
    "        print('CPF inválido')\n",
    "else:\n",
    "    print('CPF inválido')"
   ]
  }
 ],
 "metadata": {
  "kernelspec": {
   "display_name": "Python 3",
   "language": "python",
   "name": "python3"
  },
  "language_info": {
   "codemirror_mode": {
    "name": "ipython",
    "version": 3
   },
   "file_extension": ".py",
   "mimetype": "text/x-python",
   "name": "python",
   "nbconvert_exporter": "python",
   "pygments_lexer": "ipython3",
   "version": "3.7.0"
  },
  "toc": {
   "base_numbering": 1,
   "nav_menu": {},
   "number_sections": true,
   "sideBar": true,
   "skip_h1_title": false,
   "title_cell": "Table of Contents",
   "title_sidebar": "Contents",
   "toc_cell": false,
   "toc_position": {},
   "toc_section_display": true,
   "toc_window_display": false
  }
 },
 "nbformat": 4,
 "nbformat_minor": 2
}
